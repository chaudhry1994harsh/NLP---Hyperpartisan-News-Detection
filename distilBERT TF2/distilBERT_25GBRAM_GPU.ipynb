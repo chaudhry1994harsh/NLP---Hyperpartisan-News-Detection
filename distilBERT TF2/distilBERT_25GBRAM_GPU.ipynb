{
  "nbformat": 4,
  "nbformat_minor": 0,
  "metadata": {
    "colab": {
      "name": "distilBERT_25GBRAM_GPU (2).ipynb",
      "provenance": [],
      "collapsed_sections": [
        "EdHVQrqyDB50",
        "RHnhgrhlscM1",
        "R5bmey6Ts89P",
        "kqNGQWdl7ZRp",
        "AXbWgOzj8WXE",
        "_CZ68Ux18dWo",
        "VvmcT68r80yZ"
      ],
      "toc_visible": true,
      "machine_shape": "hm"
    },
    "kernelspec": {
      "name": "python3",
      "display_name": "Python 3"
    },
    "accelerator": "GPU",
    "widgets": {
      "application/vnd.jupyter.widget-state+json": {
        "d0680494dc2245e981d6259b6cdc2cb4": {
          "model_module": "@jupyter-widgets/controls",
          "model_name": "HBoxModel",
          "state": {
            "_view_name": "HBoxView",
            "_dom_classes": [],
            "_model_name": "HBoxModel",
            "_view_module": "@jupyter-widgets/controls",
            "_model_module_version": "1.5.0",
            "_view_count": null,
            "_view_module_version": "1.5.0",
            "box_style": "",
            "layout": "IPY_MODEL_0c25ab9894c148bc846f77054fa4f7df",
            "_model_module": "@jupyter-widgets/controls",
            "children": [
              "IPY_MODEL_063f85a480674b3b9962391db8bfd936",
              "IPY_MODEL_5e3f4668836a45fba658e79b5cac0fc8"
            ]
          }
        },
        "0c25ab9894c148bc846f77054fa4f7df": {
          "model_module": "@jupyter-widgets/base",
          "model_name": "LayoutModel",
          "state": {
            "_view_name": "LayoutView",
            "grid_template_rows": null,
            "right": null,
            "justify_content": null,
            "_view_module": "@jupyter-widgets/base",
            "overflow": null,
            "_model_module_version": "1.2.0",
            "_view_count": null,
            "flex_flow": null,
            "width": null,
            "min_width": null,
            "border": null,
            "align_items": null,
            "bottom": null,
            "_model_module": "@jupyter-widgets/base",
            "top": null,
            "grid_column": null,
            "overflow_y": null,
            "overflow_x": null,
            "grid_auto_flow": null,
            "grid_area": null,
            "grid_template_columns": null,
            "flex": null,
            "_model_name": "LayoutModel",
            "justify_items": null,
            "grid_row": null,
            "max_height": null,
            "align_content": null,
            "visibility": null,
            "align_self": null,
            "height": null,
            "min_height": null,
            "padding": null,
            "grid_auto_rows": null,
            "grid_gap": null,
            "max_width": null,
            "order": null,
            "_view_module_version": "1.2.0",
            "grid_template_areas": null,
            "object_position": null,
            "object_fit": null,
            "grid_auto_columns": null,
            "margin": null,
            "display": null,
            "left": null
          }
        },
        "063f85a480674b3b9962391db8bfd936": {
          "model_module": "@jupyter-widgets/controls",
          "model_name": "FloatProgressModel",
          "state": {
            "_view_name": "ProgressView",
            "style": "IPY_MODEL_d6c71a8a63314bdc817e99bf55298c14",
            "_dom_classes": [],
            "description": "Downloading: 100%",
            "_model_name": "FloatProgressModel",
            "bar_style": "success",
            "max": 231508,
            "_view_module": "@jupyter-widgets/controls",
            "_model_module_version": "1.5.0",
            "value": 231508,
            "_view_count": null,
            "_view_module_version": "1.5.0",
            "orientation": "horizontal",
            "min": 0,
            "description_tooltip": null,
            "_model_module": "@jupyter-widgets/controls",
            "layout": "IPY_MODEL_a3accfdf813e449787d8e7f8fd134b7f"
          }
        },
        "5e3f4668836a45fba658e79b5cac0fc8": {
          "model_module": "@jupyter-widgets/controls",
          "model_name": "HTMLModel",
          "state": {
            "_view_name": "HTMLView",
            "style": "IPY_MODEL_ad8cad49616844aaa7f4747eae2369f2",
            "_dom_classes": [],
            "description": "",
            "_model_name": "HTMLModel",
            "placeholder": "​",
            "_view_module": "@jupyter-widgets/controls",
            "_model_module_version": "1.5.0",
            "value": " 232k/232k [00:00&lt;00:00, 630kB/s]",
            "_view_count": null,
            "_view_module_version": "1.5.0",
            "description_tooltip": null,
            "_model_module": "@jupyter-widgets/controls",
            "layout": "IPY_MODEL_a02f9476b25d42e28528a917bb413a91"
          }
        },
        "d6c71a8a63314bdc817e99bf55298c14": {
          "model_module": "@jupyter-widgets/controls",
          "model_name": "ProgressStyleModel",
          "state": {
            "_view_name": "StyleView",
            "_model_name": "ProgressStyleModel",
            "description_width": "initial",
            "_view_module": "@jupyter-widgets/base",
            "_model_module_version": "1.5.0",
            "_view_count": null,
            "_view_module_version": "1.2.0",
            "bar_color": null,
            "_model_module": "@jupyter-widgets/controls"
          }
        },
        "a3accfdf813e449787d8e7f8fd134b7f": {
          "model_module": "@jupyter-widgets/base",
          "model_name": "LayoutModel",
          "state": {
            "_view_name": "LayoutView",
            "grid_template_rows": null,
            "right": null,
            "justify_content": null,
            "_view_module": "@jupyter-widgets/base",
            "overflow": null,
            "_model_module_version": "1.2.0",
            "_view_count": null,
            "flex_flow": null,
            "width": null,
            "min_width": null,
            "border": null,
            "align_items": null,
            "bottom": null,
            "_model_module": "@jupyter-widgets/base",
            "top": null,
            "grid_column": null,
            "overflow_y": null,
            "overflow_x": null,
            "grid_auto_flow": null,
            "grid_area": null,
            "grid_template_columns": null,
            "flex": null,
            "_model_name": "LayoutModel",
            "justify_items": null,
            "grid_row": null,
            "max_height": null,
            "align_content": null,
            "visibility": null,
            "align_self": null,
            "height": null,
            "min_height": null,
            "padding": null,
            "grid_auto_rows": null,
            "grid_gap": null,
            "max_width": null,
            "order": null,
            "_view_module_version": "1.2.0",
            "grid_template_areas": null,
            "object_position": null,
            "object_fit": null,
            "grid_auto_columns": null,
            "margin": null,
            "display": null,
            "left": null
          }
        },
        "ad8cad49616844aaa7f4747eae2369f2": {
          "model_module": "@jupyter-widgets/controls",
          "model_name": "DescriptionStyleModel",
          "state": {
            "_view_name": "StyleView",
            "_model_name": "DescriptionStyleModel",
            "description_width": "",
            "_view_module": "@jupyter-widgets/base",
            "_model_module_version": "1.5.0",
            "_view_count": null,
            "_view_module_version": "1.2.0",
            "_model_module": "@jupyter-widgets/controls"
          }
        },
        "a02f9476b25d42e28528a917bb413a91": {
          "model_module": "@jupyter-widgets/base",
          "model_name": "LayoutModel",
          "state": {
            "_view_name": "LayoutView",
            "grid_template_rows": null,
            "right": null,
            "justify_content": null,
            "_view_module": "@jupyter-widgets/base",
            "overflow": null,
            "_model_module_version": "1.2.0",
            "_view_count": null,
            "flex_flow": null,
            "width": null,
            "min_width": null,
            "border": null,
            "align_items": null,
            "bottom": null,
            "_model_module": "@jupyter-widgets/base",
            "top": null,
            "grid_column": null,
            "overflow_y": null,
            "overflow_x": null,
            "grid_auto_flow": null,
            "grid_area": null,
            "grid_template_columns": null,
            "flex": null,
            "_model_name": "LayoutModel",
            "justify_items": null,
            "grid_row": null,
            "max_height": null,
            "align_content": null,
            "visibility": null,
            "align_self": null,
            "height": null,
            "min_height": null,
            "padding": null,
            "grid_auto_rows": null,
            "grid_gap": null,
            "max_width": null,
            "order": null,
            "_view_module_version": "1.2.0",
            "grid_template_areas": null,
            "object_position": null,
            "object_fit": null,
            "grid_auto_columns": null,
            "margin": null,
            "display": null,
            "left": null
          }
        },
        "0a9065c6f3a749a8905bb45bfc7d61cc": {
          "model_module": "@jupyter-widgets/controls",
          "model_name": "HBoxModel",
          "state": {
            "_view_name": "HBoxView",
            "_dom_classes": [],
            "_model_name": "HBoxModel",
            "_view_module": "@jupyter-widgets/controls",
            "_model_module_version": "1.5.0",
            "_view_count": null,
            "_view_module_version": "1.5.0",
            "box_style": "",
            "layout": "IPY_MODEL_29aa26da7c5542129f02312df9e8e4d7",
            "_model_module": "@jupyter-widgets/controls",
            "children": [
              "IPY_MODEL_c8131159d32d498ea690a145727b69d3",
              "IPY_MODEL_70e9147b9427419b9b728bbb895b8434"
            ]
          }
        },
        "29aa26da7c5542129f02312df9e8e4d7": {
          "model_module": "@jupyter-widgets/base",
          "model_name": "LayoutModel",
          "state": {
            "_view_name": "LayoutView",
            "grid_template_rows": null,
            "right": null,
            "justify_content": null,
            "_view_module": "@jupyter-widgets/base",
            "overflow": null,
            "_model_module_version": "1.2.0",
            "_view_count": null,
            "flex_flow": null,
            "width": null,
            "min_width": null,
            "border": null,
            "align_items": null,
            "bottom": null,
            "_model_module": "@jupyter-widgets/base",
            "top": null,
            "grid_column": null,
            "overflow_y": null,
            "overflow_x": null,
            "grid_auto_flow": null,
            "grid_area": null,
            "grid_template_columns": null,
            "flex": null,
            "_model_name": "LayoutModel",
            "justify_items": null,
            "grid_row": null,
            "max_height": null,
            "align_content": null,
            "visibility": null,
            "align_self": null,
            "height": null,
            "min_height": null,
            "padding": null,
            "grid_auto_rows": null,
            "grid_gap": null,
            "max_width": null,
            "order": null,
            "_view_module_version": "1.2.0",
            "grid_template_areas": null,
            "object_position": null,
            "object_fit": null,
            "grid_auto_columns": null,
            "margin": null,
            "display": null,
            "left": null
          }
        },
        "c8131159d32d498ea690a145727b69d3": {
          "model_module": "@jupyter-widgets/controls",
          "model_name": "FloatProgressModel",
          "state": {
            "_view_name": "ProgressView",
            "style": "IPY_MODEL_a113de1570354c2e870f0038125a6c38",
            "_dom_classes": [],
            "description": "Downloading: 100%",
            "_model_name": "FloatProgressModel",
            "bar_style": "success",
            "max": 442,
            "_view_module": "@jupyter-widgets/controls",
            "_model_module_version": "1.5.0",
            "value": 442,
            "_view_count": null,
            "_view_module_version": "1.5.0",
            "orientation": "horizontal",
            "min": 0,
            "description_tooltip": null,
            "_model_module": "@jupyter-widgets/controls",
            "layout": "IPY_MODEL_38b7ef2f96f8464f81fa1a3b11479ced"
          }
        },
        "70e9147b9427419b9b728bbb895b8434": {
          "model_module": "@jupyter-widgets/controls",
          "model_name": "HTMLModel",
          "state": {
            "_view_name": "HTMLView",
            "style": "IPY_MODEL_380b3dc168b241adbf3c890d0eaaceed",
            "_dom_classes": [],
            "description": "",
            "_model_name": "HTMLModel",
            "placeholder": "​",
            "_view_module": "@jupyter-widgets/controls",
            "_model_module_version": "1.5.0",
            "value": " 442/442 [00:04&lt;00:00, 101B/s]",
            "_view_count": null,
            "_view_module_version": "1.5.0",
            "description_tooltip": null,
            "_model_module": "@jupyter-widgets/controls",
            "layout": "IPY_MODEL_5c46c63fe9204578adaa4ea0317ad062"
          }
        },
        "a113de1570354c2e870f0038125a6c38": {
          "model_module": "@jupyter-widgets/controls",
          "model_name": "ProgressStyleModel",
          "state": {
            "_view_name": "StyleView",
            "_model_name": "ProgressStyleModel",
            "description_width": "initial",
            "_view_module": "@jupyter-widgets/base",
            "_model_module_version": "1.5.0",
            "_view_count": null,
            "_view_module_version": "1.2.0",
            "bar_color": null,
            "_model_module": "@jupyter-widgets/controls"
          }
        },
        "38b7ef2f96f8464f81fa1a3b11479ced": {
          "model_module": "@jupyter-widgets/base",
          "model_name": "LayoutModel",
          "state": {
            "_view_name": "LayoutView",
            "grid_template_rows": null,
            "right": null,
            "justify_content": null,
            "_view_module": "@jupyter-widgets/base",
            "overflow": null,
            "_model_module_version": "1.2.0",
            "_view_count": null,
            "flex_flow": null,
            "width": null,
            "min_width": null,
            "border": null,
            "align_items": null,
            "bottom": null,
            "_model_module": "@jupyter-widgets/base",
            "top": null,
            "grid_column": null,
            "overflow_y": null,
            "overflow_x": null,
            "grid_auto_flow": null,
            "grid_area": null,
            "grid_template_columns": null,
            "flex": null,
            "_model_name": "LayoutModel",
            "justify_items": null,
            "grid_row": null,
            "max_height": null,
            "align_content": null,
            "visibility": null,
            "align_self": null,
            "height": null,
            "min_height": null,
            "padding": null,
            "grid_auto_rows": null,
            "grid_gap": null,
            "max_width": null,
            "order": null,
            "_view_module_version": "1.2.0",
            "grid_template_areas": null,
            "object_position": null,
            "object_fit": null,
            "grid_auto_columns": null,
            "margin": null,
            "display": null,
            "left": null
          }
        },
        "380b3dc168b241adbf3c890d0eaaceed": {
          "model_module": "@jupyter-widgets/controls",
          "model_name": "DescriptionStyleModel",
          "state": {
            "_view_name": "StyleView",
            "_model_name": "DescriptionStyleModel",
            "description_width": "",
            "_view_module": "@jupyter-widgets/base",
            "_model_module_version": "1.5.0",
            "_view_count": null,
            "_view_module_version": "1.2.0",
            "_model_module": "@jupyter-widgets/controls"
          }
        },
        "5c46c63fe9204578adaa4ea0317ad062": {
          "model_module": "@jupyter-widgets/base",
          "model_name": "LayoutModel",
          "state": {
            "_view_name": "LayoutView",
            "grid_template_rows": null,
            "right": null,
            "justify_content": null,
            "_view_module": "@jupyter-widgets/base",
            "overflow": null,
            "_model_module_version": "1.2.0",
            "_view_count": null,
            "flex_flow": null,
            "width": null,
            "min_width": null,
            "border": null,
            "align_items": null,
            "bottom": null,
            "_model_module": "@jupyter-widgets/base",
            "top": null,
            "grid_column": null,
            "overflow_y": null,
            "overflow_x": null,
            "grid_auto_flow": null,
            "grid_area": null,
            "grid_template_columns": null,
            "flex": null,
            "_model_name": "LayoutModel",
            "justify_items": null,
            "grid_row": null,
            "max_height": null,
            "align_content": null,
            "visibility": null,
            "align_self": null,
            "height": null,
            "min_height": null,
            "padding": null,
            "grid_auto_rows": null,
            "grid_gap": null,
            "max_width": null,
            "order": null,
            "_view_module_version": "1.2.0",
            "grid_template_areas": null,
            "object_position": null,
            "object_fit": null,
            "grid_auto_columns": null,
            "margin": null,
            "display": null,
            "left": null
          }
        },
        "113d869a97174185b748a7076bf93c15": {
          "model_module": "@jupyter-widgets/controls",
          "model_name": "HBoxModel",
          "state": {
            "_view_name": "HBoxView",
            "_dom_classes": [],
            "_model_name": "HBoxModel",
            "_view_module": "@jupyter-widgets/controls",
            "_model_module_version": "1.5.0",
            "_view_count": null,
            "_view_module_version": "1.5.0",
            "box_style": "",
            "layout": "IPY_MODEL_b978f55d5ecc49ac9bb2ee780075be6c",
            "_model_module": "@jupyter-widgets/controls",
            "children": [
              "IPY_MODEL_85915b0dd21f48638136105da44f0998",
              "IPY_MODEL_b0d28bde6227408da52b7b805a005eef"
            ]
          }
        },
        "b978f55d5ecc49ac9bb2ee780075be6c": {
          "model_module": "@jupyter-widgets/base",
          "model_name": "LayoutModel",
          "state": {
            "_view_name": "LayoutView",
            "grid_template_rows": null,
            "right": null,
            "justify_content": null,
            "_view_module": "@jupyter-widgets/base",
            "overflow": null,
            "_model_module_version": "1.2.0",
            "_view_count": null,
            "flex_flow": null,
            "width": null,
            "min_width": null,
            "border": null,
            "align_items": null,
            "bottom": null,
            "_model_module": "@jupyter-widgets/base",
            "top": null,
            "grid_column": null,
            "overflow_y": null,
            "overflow_x": null,
            "grid_auto_flow": null,
            "grid_area": null,
            "grid_template_columns": null,
            "flex": null,
            "_model_name": "LayoutModel",
            "justify_items": null,
            "grid_row": null,
            "max_height": null,
            "align_content": null,
            "visibility": null,
            "align_self": null,
            "height": null,
            "min_height": null,
            "padding": null,
            "grid_auto_rows": null,
            "grid_gap": null,
            "max_width": null,
            "order": null,
            "_view_module_version": "1.2.0",
            "grid_template_areas": null,
            "object_position": null,
            "object_fit": null,
            "grid_auto_columns": null,
            "margin": null,
            "display": null,
            "left": null
          }
        },
        "85915b0dd21f48638136105da44f0998": {
          "model_module": "@jupyter-widgets/controls",
          "model_name": "FloatProgressModel",
          "state": {
            "_view_name": "ProgressView",
            "style": "IPY_MODEL_2c83f33cf68c44229e9720dac847792b",
            "_dom_classes": [],
            "description": "Downloading: 100%",
            "_model_name": "FloatProgressModel",
            "bar_style": "success",
            "max": 363423424,
            "_view_module": "@jupyter-widgets/controls",
            "_model_module_version": "1.5.0",
            "value": 363423424,
            "_view_count": null,
            "_view_module_version": "1.5.0",
            "orientation": "horizontal",
            "min": 0,
            "description_tooltip": null,
            "_model_module": "@jupyter-widgets/controls",
            "layout": "IPY_MODEL_147348d7303645a7abbb7bf2fe7ce854"
          }
        },
        "b0d28bde6227408da52b7b805a005eef": {
          "model_module": "@jupyter-widgets/controls",
          "model_name": "HTMLModel",
          "state": {
            "_view_name": "HTMLView",
            "style": "IPY_MODEL_ba3e255f7cb3434989f83c73840f30ca",
            "_dom_classes": [],
            "description": "",
            "_model_name": "HTMLModel",
            "placeholder": "​",
            "_view_module": "@jupyter-widgets/controls",
            "_model_module_version": "1.5.0",
            "value": " 363M/363M [00:04&lt;00:00, 85.5MB/s]",
            "_view_count": null,
            "_view_module_version": "1.5.0",
            "description_tooltip": null,
            "_model_module": "@jupyter-widgets/controls",
            "layout": "IPY_MODEL_d31b23fdfc944772a2f37959265328b6"
          }
        },
        "2c83f33cf68c44229e9720dac847792b": {
          "model_module": "@jupyter-widgets/controls",
          "model_name": "ProgressStyleModel",
          "state": {
            "_view_name": "StyleView",
            "_model_name": "ProgressStyleModel",
            "description_width": "initial",
            "_view_module": "@jupyter-widgets/base",
            "_model_module_version": "1.5.0",
            "_view_count": null,
            "_view_module_version": "1.2.0",
            "bar_color": null,
            "_model_module": "@jupyter-widgets/controls"
          }
        },
        "147348d7303645a7abbb7bf2fe7ce854": {
          "model_module": "@jupyter-widgets/base",
          "model_name": "LayoutModel",
          "state": {
            "_view_name": "LayoutView",
            "grid_template_rows": null,
            "right": null,
            "justify_content": null,
            "_view_module": "@jupyter-widgets/base",
            "overflow": null,
            "_model_module_version": "1.2.0",
            "_view_count": null,
            "flex_flow": null,
            "width": null,
            "min_width": null,
            "border": null,
            "align_items": null,
            "bottom": null,
            "_model_module": "@jupyter-widgets/base",
            "top": null,
            "grid_column": null,
            "overflow_y": null,
            "overflow_x": null,
            "grid_auto_flow": null,
            "grid_area": null,
            "grid_template_columns": null,
            "flex": null,
            "_model_name": "LayoutModel",
            "justify_items": null,
            "grid_row": null,
            "max_height": null,
            "align_content": null,
            "visibility": null,
            "align_self": null,
            "height": null,
            "min_height": null,
            "padding": null,
            "grid_auto_rows": null,
            "grid_gap": null,
            "max_width": null,
            "order": null,
            "_view_module_version": "1.2.0",
            "grid_template_areas": null,
            "object_position": null,
            "object_fit": null,
            "grid_auto_columns": null,
            "margin": null,
            "display": null,
            "left": null
          }
        },
        "ba3e255f7cb3434989f83c73840f30ca": {
          "model_module": "@jupyter-widgets/controls",
          "model_name": "DescriptionStyleModel",
          "state": {
            "_view_name": "StyleView",
            "_model_name": "DescriptionStyleModel",
            "description_width": "",
            "_view_module": "@jupyter-widgets/base",
            "_model_module_version": "1.5.0",
            "_view_count": null,
            "_view_module_version": "1.2.0",
            "_model_module": "@jupyter-widgets/controls"
          }
        },
        "d31b23fdfc944772a2f37959265328b6": {
          "model_module": "@jupyter-widgets/base",
          "model_name": "LayoutModel",
          "state": {
            "_view_name": "LayoutView",
            "grid_template_rows": null,
            "right": null,
            "justify_content": null,
            "_view_module": "@jupyter-widgets/base",
            "overflow": null,
            "_model_module_version": "1.2.0",
            "_view_count": null,
            "flex_flow": null,
            "width": null,
            "min_width": null,
            "border": null,
            "align_items": null,
            "bottom": null,
            "_model_module": "@jupyter-widgets/base",
            "top": null,
            "grid_column": null,
            "overflow_y": null,
            "overflow_x": null,
            "grid_auto_flow": null,
            "grid_area": null,
            "grid_template_columns": null,
            "flex": null,
            "_model_name": "LayoutModel",
            "justify_items": null,
            "grid_row": null,
            "max_height": null,
            "align_content": null,
            "visibility": null,
            "align_self": null,
            "height": null,
            "min_height": null,
            "padding": null,
            "grid_auto_rows": null,
            "grid_gap": null,
            "max_width": null,
            "order": null,
            "_view_module_version": "1.2.0",
            "grid_template_areas": null,
            "object_position": null,
            "object_fit": null,
            "grid_auto_columns": null,
            "margin": null,
            "display": null,
            "left": null
          }
        }
      }
    }
  },
  "cells": [
    {
      "cell_type": "markdown",
      "metadata": {
        "id": "EdHVQrqyDB50",
        "colab_type": "text"
      },
      "source": [
        "# Memory Information"
      ]
    },
    {
      "cell_type": "code",
      "metadata": {
        "id": "E58HaeA6CsM9",
        "colab_type": "code",
        "colab": {
          "base_uri": "https://localhost:8080/"
        },
        "outputId": "82a79814-606f-4ae5-b025-00ebe21c6133"
      },
      "source": [
        "import psutil\n",
        "def get_size(bytes, suffix=\"B\"):\n",
        "    factor = 1024\n",
        "    for unit in [\"\", \"K\", \"M\", \"G\", \"T\", \"P\"]:\n",
        "        if bytes < factor:\n",
        "            return f\"{bytes:.2f}{unit}{suffix}\"\n",
        "        bytes /= factor\n",
        "print(\"=\"*40, \"Memory Information\", \"=\"*40)\n",
        "svmem = psutil.virtual_memory()\n",
        "print(f\"Total: {get_size(svmem.total)}\") ; print(f\"Available: {get_size(svmem.available)}\")\n",
        "print(f\"Used: {get_size(svmem.used)}\") ; print(f\"Percentage: {svmem.percent}%\")"
      ],
      "execution_count": null,
      "outputs": [
        {
          "output_type": "stream",
          "text": [
            "======================================== Memory Information ========================================\n",
            "Total: 25.51GB\n",
            "Available: 24.58GB\n",
            "Used: 597.87MB\n",
            "Percentage: 3.7%\n"
          ],
          "name": "stdout"
        }
      ]
    },
    {
      "cell_type": "markdown",
      "metadata": {
        "id": "FgVfBlvZDEja",
        "colab_type": "text"
      },
      "source": [
        "# GPU Information"
      ]
    },
    {
      "cell_type": "code",
      "metadata": {
        "id": "rxlkxvkrCyin",
        "colab_type": "code",
        "colab": {
          "base_uri": "https://localhost:8080/",
          "height": 353
        },
        "outputId": "9e1b392b-7cb9-4868-9278-e4612a6ec3ad"
      },
      "source": [
        "! nvidia-smi"
      ],
      "execution_count": null,
      "outputs": [
        {
          "output_type": "stream",
          "text": [
            "Thu Aug 27 07:11:13 2020       \n",
            "+-----------------------------------------------------------------------------+\n",
            "| NVIDIA-SMI 450.57       Driver Version: 418.67       CUDA Version: 10.1     |\n",
            "|-------------------------------+----------------------+----------------------+\n",
            "| GPU  Name        Persistence-M| Bus-Id        Disp.A | Volatile Uncorr. ECC |\n",
            "| Fan  Temp  Perf  Pwr:Usage/Cap|         Memory-Usage | GPU-Util  Compute M. |\n",
            "|                               |                      |               MIG M. |\n",
            "|===============================+======================+======================|\n",
            "|   0  Tesla P100-PCIE...  Off  | 00000000:00:04.0 Off |                    0 |\n",
            "| N/A   39C    P0    27W / 250W |      0MiB / 16280MiB |      0%      Default |\n",
            "|                               |                      |                 ERR! |\n",
            "+-------------------------------+----------------------+----------------------+\n",
            "                                                                               \n",
            "+-----------------------------------------------------------------------------+\n",
            "| Processes:                                                                  |\n",
            "|  GPU   GI   CI        PID   Type   Process name                  GPU Memory |\n",
            "|        ID   ID                                                   Usage      |\n",
            "|=============================================================================|\n",
            "|  No running processes found                                                 |\n",
            "+-----------------------------------------------------------------------------+\n"
          ],
          "name": "stdout"
        }
      ]
    },
    {
      "cell_type": "markdown",
      "metadata": {
        "id": "RHnhgrhlscM1",
        "colab_type": "text"
      },
      "source": [
        "# Installs, Imports, Config"
      ]
    },
    {
      "cell_type": "code",
      "metadata": {
        "id": "jyDODoaWC6KI",
        "colab_type": "code",
        "colab": {
          "base_uri": "https://localhost:8080/",
          "height": 0
        },
        "outputId": "5686ce6c-19dc-49d6-dcfc-794756c38bf2"
      },
      "source": [
        "!pip install tensorflow-gpu >> /dev/null\n",
        "!pip install --upgrade grpcio >> /dev/null\n",
        "!pip install tqdm  >> /dev/null\n",
        "!pip install transformers >>/dev/null\n",
        "!pip install h5py\n",
        "#!pip uninstall Keras\n",
        "#!pip install keras-applications -U\n",
        "#!pip install keras-applications -U\n",
        "#!pip install Keras -U"
      ],
      "execution_count": 2,
      "outputs": [
        {
          "output_type": "stream",
          "text": [
            "Requirement already satisfied: h5py in /usr/local/lib/python3.6/dist-packages (2.10.0)\n",
            "Requirement already satisfied: six in /usr/local/lib/python3.6/dist-packages (from h5py) (1.15.0)\n",
            "Requirement already satisfied: numpy>=1.7 in /usr/local/lib/python3.6/dist-packages (from h5py) (1.18.5)\n"
          ],
          "name": "stdout"
        }
      ]
    },
    {
      "cell_type": "code",
      "metadata": {
        "id": "GUAwi8_5pOC7",
        "colab_type": "code",
        "colab": {
          "base_uri": "https://localhost:8080/",
          "height": 1000
        },
        "outputId": "ee54947a-b327-4836-c0b0-b2a937ca8d83"
      },
      "source": [
        "!pip list"
      ],
      "execution_count": 2,
      "outputs": [
        {
          "output_type": "stream",
          "text": [
            "Package                       Version        \n",
            "----------------------------- ---------------\n",
            "absl-py                       0.8.1          \n",
            "alabaster                     0.7.12         \n",
            "albumentations                0.1.12         \n",
            "altair                        4.1.0          \n",
            "argon2-cffi                   20.1.0         \n",
            "asgiref                       3.2.10         \n",
            "astor                         0.8.1          \n",
            "astropy                       4.0.1.post1    \n",
            "astunparse                    1.6.3          \n",
            "atari-py                      0.2.6          \n",
            "atomicwrites                  1.4.0          \n",
            "attrs                         20.1.0         \n",
            "audioread                     2.1.8          \n",
            "autograd                      1.3            \n",
            "Babel                         2.8.0          \n",
            "backcall                      0.2.0          \n",
            "beautifulsoup4                4.6.3          \n",
            "bleach                        3.1.5          \n",
            "blis                          0.4.1          \n",
            "bokeh                         2.1.1          \n",
            "boto                          2.49.0         \n",
            "boto3                         1.14.48        \n",
            "botocore                      1.17.48        \n",
            "Bottleneck                    1.3.2          \n",
            "branca                        0.4.1          \n",
            "bs4                           0.0.1          \n",
            "CacheControl                  0.12.6         \n",
            "cachetools                    4.1.1          \n",
            "catalogue                     1.0.0          \n",
            "certifi                       2020.6.20      \n",
            "cffi                          1.14.2         \n",
            "chainer                       7.4.0          \n",
            "chardet                       3.0.4          \n",
            "click                         7.1.2          \n",
            "cloudpickle                   1.3.0          \n",
            "cmake                         3.12.0         \n",
            "cmdstanpy                     0.4.0          \n",
            "colorlover                    0.3.0          \n",
            "community                     1.0.0b1        \n",
            "contextlib2                   0.5.5          \n",
            "convertdate                   2.2.1          \n",
            "coverage                      3.7.1          \n",
            "coveralls                     0.5            \n",
            "crcmod                        1.7            \n",
            "cufflinks                     0.17.3         \n",
            "cupy-cuda101                  7.4.0          \n",
            "cvxopt                        1.2.5          \n",
            "cvxpy                         1.0.31         \n",
            "cycler                        0.10.0         \n",
            "cymem                         2.0.3          \n",
            "Cython                        0.29.21        \n",
            "daft                          0.0.4          \n",
            "dask                          2.12.0         \n",
            "dataclasses                   0.7            \n",
            "datascience                   0.10.6         \n",
            "debugpy                       1.0.0rc2       \n",
            "decorator                     4.4.2          \n",
            "defusedxml                    0.6.0          \n",
            "descartes                     1.1.0          \n",
            "dill                          0.3.2          \n",
            "distributed                   1.25.3         \n",
            "Django                        3.1            \n",
            "dlib                          19.18.0        \n",
            "dm-tree                       0.1.5          \n",
            "docopt                        0.6.2          \n",
            "docutils                      0.15.2         \n",
            "dopamine-rl                   1.0.5          \n",
            "earthengine-api               0.1.232        \n",
            "easydict                      1.9            \n",
            "ecos                          2.0.7.post1    \n",
            "editdistance                  0.5.3          \n",
            "en-core-web-sm                2.2.5          \n",
            "entrypoints                   0.3            \n",
            "ephem                         3.7.7.1        \n",
            "et-xmlfile                    1.0.1          \n",
            "fa2                           0.3.5          \n",
            "fancyimpute                   0.4.3          \n",
            "fastai                        1.0.61         \n",
            "fastdtw                       0.3.4          \n",
            "fastprogress                  1.0.0          \n",
            "fastrlock                     0.5            \n",
            "fbprophet                     0.6            \n",
            "feather-format                0.4.1          \n",
            "filelock                      3.0.12         \n",
            "firebase-admin                4.1.0          \n",
            "fix-yahoo-finance             0.0.22         \n",
            "Flask                         1.1.2          \n",
            "folium                        0.8.3          \n",
            "future                        0.16.0         \n",
            "gast                          0.3.3          \n",
            "GDAL                          2.2.2          \n",
            "gdown                         3.6.4          \n",
            "gensim                        3.6.0          \n",
            "geographiclib                 1.50           \n",
            "geopy                         1.17.0         \n",
            "gin-config                    0.3.0          \n",
            "glob2                         0.7            \n",
            "google                        2.0.3          \n",
            "google-api-core               1.16.0         \n",
            "google-api-python-client      1.7.12         \n",
            "google-auth                   1.17.2         \n",
            "google-auth-httplib2          0.0.4          \n",
            "google-auth-oauthlib          0.4.1          \n",
            "google-cloud-bigquery         1.21.0         \n",
            "google-cloud-core             1.0.3          \n",
            "google-cloud-datastore        1.8.0          \n",
            "google-cloud-firestore        1.7.0          \n",
            "google-cloud-language         1.2.0          \n",
            "google-cloud-storage          1.18.1         \n",
            "google-cloud-translate        1.5.0          \n",
            "google-colab                  1.0.0          \n",
            "google-pasta                  0.2.0          \n",
            "google-resumable-media        0.4.1          \n",
            "googleapis-common-protos      1.52.0         \n",
            "googledrivedownloader         0.4            \n",
            "graphviz                      0.10.1         \n",
            "grpcio                        1.31.0         \n",
            "gspread                       3.0.1          \n",
            "gspread-dataframe             3.0.8          \n",
            "gym                           0.17.2         \n",
            "h5py                          2.10.0         \n",
            "HeapDict                      1.0.1          \n",
            "holidays                      0.9.12         \n",
            "holoviews                     1.13.3         \n",
            "html5lib                      1.0.1          \n",
            "httpimport                    0.5.18         \n",
            "httplib2                      0.17.4         \n",
            "httplib2shim                  0.0.3          \n",
            "humanize                      0.5.1          \n",
            "hyperopt                      0.1.2          \n",
            "ideep4py                      2.0.0.post3    \n",
            "idna                          2.10           \n",
            "image                         1.5.32         \n",
            "imageio                       2.4.1          \n",
            "imagesize                     1.2.0          \n",
            "imbalanced-learn              0.4.3          \n",
            "imblearn                      0.0            \n",
            "imgaug                        0.2.9          \n",
            "importlib-metadata            1.7.0          \n",
            "imutils                       0.5.3          \n",
            "inflect                       2.1.0          \n",
            "iniconfig                     1.0.1          \n",
            "intel-openmp                  2020.0.133     \n",
            "intervaltree                  2.1.0          \n",
            "ipykernel                     4.10.1         \n",
            "ipython                       5.5.0          \n",
            "ipython-genutils              0.2.0          \n",
            "ipython-sql                   0.3.9          \n",
            "ipywidgets                    7.5.1          \n",
            "itsdangerous                  1.1.0          \n",
            "jax                           0.1.75         \n",
            "jaxlib                        0.1.52         \n",
            "jdcal                         1.4.1          \n",
            "jedi                          0.17.2         \n",
            "jieba                         0.42.1         \n",
            "Jinja2                        2.11.2         \n",
            "jmespath                      0.10.0         \n",
            "joblib                        0.16.0         \n",
            "jpeg4py                       0.1.4          \n",
            "jsonschema                    2.6.0          \n",
            "jupyter                       1.0.0          \n",
            "jupyter-client                5.3.5          \n",
            "jupyter-console               5.2.0          \n",
            "jupyter-core                  4.6.3          \n",
            "kaggle                        1.5.6          \n",
            "kapre                         0.1.3.1        \n",
            "Keras                         2.4.3          \n",
            "Keras-Preprocessing           1.1.2          \n",
            "keras-vis                     0.4.1          \n",
            "kiwisolver                    1.2.0          \n",
            "knnimpute                     0.1.0          \n",
            "librosa                       0.6.3          \n",
            "lightgbm                      2.2.3          \n",
            "llvmlite                      0.31.0         \n",
            "lmdb                          0.99           \n",
            "lucid                         0.3.8          \n",
            "LunarCalendar                 0.0.9          \n",
            "lxml                          4.2.6          \n",
            "Markdown                      3.2.2          \n",
            "MarkupSafe                    1.1.1          \n",
            "matplotlib                    3.2.2          \n",
            "matplotlib-venn               0.11.5         \n",
            "missingno                     0.4.2          \n",
            "mistune                       0.8.4          \n",
            "mizani                        0.6.0          \n",
            "mkl                           2019.0         \n",
            "mlxtend                       0.14.0         \n",
            "more-itertools                8.4.0          \n",
            "moviepy                       0.2.3.5        \n",
            "mpmath                        1.1.0          \n",
            "msgpack                       1.0.0          \n",
            "multiprocess                  0.70.10        \n",
            "multitasking                  0.0.9          \n",
            "murmurhash                    1.0.2          \n",
            "music21                       5.5.0          \n",
            "natsort                       5.5.0          \n",
            "nbconvert                     5.6.1          \n",
            "nbformat                      5.0.7          \n",
            "networkx                      2.5            \n",
            "nibabel                       3.0.2          \n",
            "nltk                          3.2.5          \n",
            "notebook                      5.3.1          \n",
            "np-utils                      0.5.12.1       \n",
            "numba                         0.48.0         \n",
            "numexpr                       2.7.1          \n",
            "numpy                         1.18.5         \n",
            "nvidia-ml-py3                 7.352.0        \n",
            "oauth2client                  4.1.3          \n",
            "oauthlib                      3.1.0          \n",
            "okgrade                       0.4.3          \n",
            "opencv-contrib-python         4.1.2.30       \n",
            "opencv-python                 4.1.2.30       \n",
            "openpyxl                      2.5.9          \n",
            "opt-einsum                    3.3.0          \n",
            "osqp                          0.6.1          \n",
            "packaging                     20.4           \n",
            "palettable                    3.3.0          \n",
            "pandas                        1.0.5          \n",
            "pandas-datareader             0.8.1          \n",
            "pandas-gbq                    0.11.0         \n",
            "pandas-profiling              1.4.1          \n",
            "pandocfilters                 1.4.2          \n",
            "panel                         0.9.7          \n",
            "param                         1.9.3          \n",
            "parso                         0.7.1          \n",
            "pathlib                       1.0.1          \n",
            "patsy                         0.5.1          \n",
            "pexpect                       4.8.0          \n",
            "pickleshare                   0.7.5          \n",
            "Pillow                        7.0.0          \n",
            "pip                           19.3.1         \n",
            "pip-tools                     4.5.1          \n",
            "plac                          1.1.3          \n",
            "plotly                        4.4.1          \n",
            "plotnine                      0.6.0          \n",
            "pluggy                        0.7.1          \n",
            "portpicker                    1.3.1          \n",
            "prefetch-generator            1.0.1          \n",
            "preshed                       3.0.2          \n",
            "prettytable                   0.7.2          \n",
            "progressbar2                  3.38.0         \n",
            "prometheus-client             0.8.0          \n",
            "promise                       2.3            \n",
            "prompt-toolkit                1.0.18         \n",
            "protobuf                      3.12.4         \n",
            "psutil                        5.4.8          \n",
            "psycopg2                      2.7.6.1        \n",
            "ptyprocess                    0.6.0          \n",
            "py                            1.9.0          \n",
            "pyarrow                       0.14.1         \n",
            "pyasn1                        0.4.8          \n",
            "pyasn1-modules                0.2.8          \n",
            "pycocotools                   2.0.1          \n",
            "pycparser                     2.20           \n",
            "pyct                          0.4.6          \n",
            "pydata-google-auth            1.1.0          \n",
            "pydot                         1.3.0          \n",
            "pydot-ng                      2.0.0          \n",
            "pydotplus                     2.0.2          \n",
            "PyDrive                       1.3.1          \n",
            "pyemd                         0.5.1          \n",
            "pyglet                        1.5.0          \n",
            "Pygments                      2.1.3          \n",
            "pygobject                     3.26.1         \n",
            "pymc3                         3.7            \n",
            "PyMeeus                       0.3.7          \n",
            "pymongo                       3.11.0         \n",
            "pymystem3                     0.2.0          \n",
            "PyOpenGL                      3.1.5          \n",
            "pyparsing                     2.4.7          \n",
            "pyrsistent                    0.16.0         \n",
            "pysndfile                     1.3.8          \n",
            "PySocks                       1.7.1          \n",
            "pystan                        2.19.1.1       \n",
            "pytest                        3.6.4          \n",
            "python-apt                    1.6.5+ubuntu0.3\n",
            "python-chess                  0.23.11        \n",
            "python-dateutil               2.8.1          \n",
            "python-louvain                0.14           \n",
            "python-slugify                4.0.1          \n",
            "python-utils                  2.4.0          \n",
            "pytz                          2018.9         \n",
            "pyviz-comms                   0.7.6          \n",
            "PyWavelets                    1.1.1          \n",
            "PyYAML                        3.13           \n",
            "pyzmq                         19.0.2         \n",
            "qtconsole                     4.7.6          \n",
            "QtPy                          1.9.0          \n",
            "regex                         2019.12.20     \n",
            "requests                      2.23.0         \n",
            "requests-oauthlib             1.3.0          \n",
            "resampy                       0.2.2          \n",
            "retrying                      1.3.3          \n",
            "rpy2                          3.2.7          \n",
            "rsa                           4.6            \n",
            "s3transfer                    0.3.3          \n",
            "sacremoses                    0.0.43         \n",
            "scikit-image                  0.16.2         \n",
            "scikit-learn                  0.22.2.post1   \n",
            "scipy                         1.4.1          \n",
            "screen-resolution-extra       0.0.0          \n",
            "scs                           2.1.2          \n",
            "seaborn                       0.10.1         \n",
            "Send2Trash                    1.5.0          \n",
            "sentencepiece                 0.1.91         \n",
            "setuptools                    49.6.0         \n",
            "setuptools-git                1.2            \n",
            "Shapely                       1.7.1          \n",
            "simplegeneric                 0.8.1          \n",
            "six                           1.15.0         \n",
            "sklearn                       0.0            \n",
            "sklearn-pandas                1.8.0          \n",
            "smart-open                    2.1.0          \n",
            "snowballstemmer               2.0.0          \n",
            "sortedcontainers              2.2.2          \n",
            "spacy                         2.2.4          \n",
            "Sphinx                        1.8.5          \n",
            "sphinxcontrib-serializinghtml 1.1.4          \n",
            "sphinxcontrib-websupport      1.2.4          \n",
            "SQLAlchemy                    1.3.19         \n",
            "sqlparse                      0.3.1          \n",
            "srsly                         1.0.2          \n",
            "statsmodels                   0.10.2         \n",
            "sympy                         1.1.1          \n",
            "tables                        3.4.4          \n",
            "tabulate                      0.8.7          \n",
            "tblib                         1.7.0          \n",
            "tensorboard                   2.3.0          \n",
            "tensorboard-plugin-wit        1.7.0          \n",
            "tensorboardcolab              0.0.22         \n",
            "tensorflow                    2.3.0          \n",
            "tensorflow-addons             0.8.3          \n",
            "tensorflow-datasets           2.1.0          \n",
            "tensorflow-estimator          2.3.0          \n",
            "tensorflow-gcs-config         2.3.0          \n",
            "tensorflow-gpu                2.3.0          \n",
            "tensorflow-hub                0.9.0          \n",
            "tensorflow-metadata           0.23.0         \n",
            "tensorflow-privacy            0.2.2          \n",
            "tensorflow-probability        0.11.0         \n",
            "termcolor                     1.1.0          \n",
            "terminado                     0.8.3          \n",
            "testpath                      0.4.4          \n",
            "text-unidecode                1.3            \n",
            "textblob                      0.15.3         \n",
            "textgenrnn                    1.4.1          \n",
            "Theano                        1.0.5          \n",
            "thinc                         7.4.0          \n",
            "tifffile                      2020.8.25      \n",
            "tokenizers                    0.8.1rc1       \n",
            "toml                          0.10.1         \n",
            "toolz                         0.10.0         \n",
            "torch                         1.6.0+cu101    \n",
            "torchsummary                  1.5.1          \n",
            "torchtext                     0.3.1          \n",
            "torchvision                   0.7.0+cu101    \n",
            "tornado                       5.1.1          \n",
            "tqdm                          4.41.1         \n",
            "traitlets                     4.3.3          \n",
            "transformers                  3.0.2          \n",
            "tweepy                        3.6.0          \n",
            "typeguard                     2.7.1          \n",
            "typing-extensions             3.7.4.3        \n",
            "tzlocal                       1.5.1          \n",
            "umap-learn                    0.4.6          \n",
            "uritemplate                   3.0.1          \n",
            "urllib3                       1.24.3         \n",
            "vega-datasets                 0.8.0          \n",
            "wasabi                        0.7.1          \n",
            "wcwidth                       0.2.5          \n",
            "webencodings                  0.5.1          \n",
            "Werkzeug                      1.0.1          \n",
            "wheel                         0.35.1         \n",
            "widgetsnbextension            3.5.1          \n",
            "wordcloud                     1.5.0          \n",
            "wrapt                         1.12.1         \n",
            "xarray                        0.15.1         \n",
            "xgboost                       0.90           \n",
            "xkit                          0.0.0          \n",
            "xlrd                          1.1.0          \n",
            "xlwt                          1.3.0          \n",
            "yellowbrick                   0.9.1          \n",
            "zict                          2.0.0          \n",
            "zipp                          3.1.0          \n"
          ],
          "name": "stdout"
        }
      ]
    },
    {
      "cell_type": "code",
      "metadata": {
        "id": "-b09P0xAKFZy",
        "colab_type": "code",
        "colab": {}
      },
      "source": [
        "import os\n",
        "import pickle\n",
        "\n",
        "from transformers import DistilBertTokenizer, TFDistilBertForSequenceClassification\n",
        "import tensorflow as tf\n",
        "\n",
        "import pandas as pd\n",
        "import numpy as np\n",
        "from tqdm import tqdm, trange\n",
        "\n",
        "from tensorflow.keras.layers import Dense, Input\n",
        "from tensorflow.keras.optimizers import Adam\n",
        "from tensorflow.keras.models import Model\n",
        "from tensorflow.keras.callbacks import ModelCheckpoint\n",
        "from tensorflow import keras\n",
        "from tensorflow.keras.models import load_model\n",
        "#from keras.models import load_weights\n",
        "\n",
        "import matplotlib.pyplot as plt"
      ],
      "execution_count": 3,
      "outputs": []
    },
    {
      "cell_type": "code",
      "metadata": {
        "id": "Eu6Rg0Vuy6if",
        "colab_type": "code",
        "colab": {
          "base_uri": "https://localhost:8080/",
          "height": 121
        },
        "outputId": "2259fd84-347a-421f-f69f-3bc4ba9162c6"
      },
      "source": [
        "from google.colab import drive\n",
        "drive.mount('/content/drive')"
      ],
      "execution_count": 1,
      "outputs": [
        {
          "output_type": "stream",
          "text": [
            "Go to this URL in a browser: https://accounts.google.com/o/oauth2/auth?client_id=947318989803-6bn6qk8qdgf4n4g3pfee6491hc0brc4i.apps.googleusercontent.com&redirect_uri=urn%3aietf%3awg%3aoauth%3a2.0%3aoob&scope=email%20https%3a%2f%2fwww.googleapis.com%2fauth%2fdocs.test%20https%3a%2f%2fwww.googleapis.com%2fauth%2fdrive%20https%3a%2f%2fwww.googleapis.com%2fauth%2fdrive.photos.readonly%20https%3a%2f%2fwww.googleapis.com%2fauth%2fpeopleapi.readonly&response_type=code\n",
            "\n",
            "Enter your authorization code:\n",
            "··········\n",
            "Mounted at /content/drive\n"
          ],
          "name": "stdout"
        }
      ]
    },
    {
      "cell_type": "markdown",
      "metadata": {
        "id": "RtYBLRKg7Arv",
        "colab_type": "text"
      },
      "source": [
        "# Paths"
      ]
    },
    {
      "cell_type": "code",
      "metadata": {
        "id": "cayt4XrDj9d6",
        "colab_type": "code",
        "colab": {}
      },
      "source": [
        "distilBERTconfig = '/content/drive/My Drive/NLP_proj/distilBERT/distilbert-base-uncased-config.json'"
      ],
      "execution_count": 4,
      "outputs": []
    },
    {
      "cell_type": "code",
      "metadata": {
        "id": "cZKiUOAc0KdH",
        "colab_type": "code",
        "colab": {}
      },
      "source": [
        "train_path = \"/content/drive/My Drive/NLP_proj/CSV/articles-training-bypublisher.csv\"\n",
        "test_path = \"/content/drive/My Drive/NLP_proj/CSV/articles-validation-bypublisher.csv\"\n",
        "article_path = \"/content/drive/My Drive/NLP_proj/CSV/articles-training-byarticle.csv\""
      ],
      "execution_count": 5,
      "outputs": []
    },
    {
      "cell_type": "code",
      "metadata": {
        "id": "tNoZCFFK-SrI",
        "colab_type": "code",
        "colab": {}
      },
      "source": [
        "byArticle_accModel = '/content/drive/My Drive/NLP_proj/Models/NEWbestAcc_byArticle_model.h5'\n",
        "byArticle_lossModel = '/content/drive/My Drive/NLP_proj/Models/NEWbestLoss_byArticle_model.h5'\n",
        "\n",
        "byPublisher_accModel = '/content/drive/My Drive/NLP_proj/Models/MIDbestAcc_byPublisher_model.h5'\n",
        "byPublisher_lossModel = '/content/drive/My Drive/NLP_proj/Models/MIDbestLoss_byPublisher_model.h5'\n",
        "byPublisher_fullModel = '/content/drive/My Drive/NLP_proj/Models/full_byPublisher_model.h5'"
      ],
      "execution_count": 6,
      "outputs": []
    },
    {
      "cell_type": "code",
      "metadata": {
        "id": "ZUhNc_LPEJwO",
        "colab_type": "code",
        "colab": {}
      },
      "source": [
        "epochGraph_byArticle_acc_PNG = '/content/drive/My Drive/NLP_proj/Training Epoch results/NEWbyArticleACCatEPOCH.png'\n",
        "epochGraph_byArticle_acc_PDF = '/content/drive/My Drive/NLP_proj/Training Epoch results/NEWbyArticleACCatEPOCH.pdf'\n",
        "epochGraph_byArticle_loss_PNG = '/content/drive/My Drive/NLP_proj/Training Epoch results/NEWbyArticleLOSSatEPOCH.png'\n",
        "epochGraph_byArticle_loss_PDF = '/content/drive/My Drive/NLP_proj/Training Epoch results/NEWbyArticleLOSSatEPOCH.pdf'\n",
        "\n",
        "epochGraph_byPublisher_acc_PNG = '/content/drive/My Drive/NLP_proj/Training Epoch results/byPublisherACCatEPOCH.png'\n",
        "epochGraph_byPublisher_acc_PDF = '/content/drive/My Drive/NLP_proj/Training Epoch results/byPublisherACCatEPOCH.pdf'\n",
        "epochGraph_byPublisher_loss_PNG = '/content/drive/My Drive/NLP_proj/Training Epoch results/byPublisherLOSSatEPOCH.png'\n",
        "epochGraph_byPublisher_loss_PDF = '/content/drive/My Drive/NLP_proj/Training Epoch results/byPublisherLOSSatEPOCH.pdf'"
      ],
      "execution_count": 18,
      "outputs": []
    },
    {
      "cell_type": "markdown",
      "metadata": {
        "id": "R5bmey6Ts89P",
        "colab_type": "text"
      },
      "source": [
        "# Tokenization / Input IDs Functions"
      ]
    },
    {
      "cell_type": "markdown",
      "metadata": {
        "id": "Z5HcW8XsTS3p",
        "colab_type": "text"
      },
      "source": [
        "1. https://huggingface.co/transformers/model_doc/distilbert.html\n",
        "2. https://huggingface.co/transformers/main_classes/model.html#tfpretrainedmodel\n",
        "3. https://huggingface.co/transformers/model_doc/distilbert.html\n",
        "4. https://www.kaggle.com/xhlulu/disaster-nlp-distilbert-in-tf/notebook?select=sample_submission.csv"
      ]
    },
    {
      "cell_type": "code",
      "metadata": {
        "id": "Dr4IciioKJ8d",
        "colab_type": "code",
        "colab": {
          "base_uri": "https://localhost:8080/",
          "height": 0,
          "referenced_widgets": [
            "d0680494dc2245e981d6259b6cdc2cb4",
            "0c25ab9894c148bc846f77054fa4f7df",
            "063f85a480674b3b9962391db8bfd936",
            "5e3f4668836a45fba658e79b5cac0fc8",
            "d6c71a8a63314bdc817e99bf55298c14",
            "a3accfdf813e449787d8e7f8fd134b7f",
            "ad8cad49616844aaa7f4747eae2369f2",
            "a02f9476b25d42e28528a917bb413a91",
            "0a9065c6f3a749a8905bb45bfc7d61cc",
            "29aa26da7c5542129f02312df9e8e4d7",
            "c8131159d32d498ea690a145727b69d3",
            "70e9147b9427419b9b728bbb895b8434",
            "a113de1570354c2e870f0038125a6c38",
            "38b7ef2f96f8464f81fa1a3b11479ced",
            "380b3dc168b241adbf3c890d0eaaceed",
            "5c46c63fe9204578adaa4ea0317ad062",
            "113d869a97174185b748a7076bf93c15",
            "b978f55d5ecc49ac9bb2ee780075be6c",
            "85915b0dd21f48638136105da44f0998",
            "b0d28bde6227408da52b7b805a005eef",
            "2c83f33cf68c44229e9720dac847792b",
            "147348d7303645a7abbb7bf2fe7ce854",
            "ba3e255f7cb3434989f83c73840f30ca",
            "d31b23fdfc944772a2f37959265328b6"
          ]
        },
        "outputId": "442b5951-bded-40d8-ce21-4d58bcea5754"
      },
      "source": [
        "#tokenizer = DistilBertTokenizer.from_pretrained(distilBERTconfig)\n",
        "tokenizer = DistilBertTokenizer.from_pretrained('distilbert-base-uncased')\n",
        "model_byPublisher = TFDistilBertForSequenceClassification.from_pretrained('distilbert-base-uncased')\n",
        "model_byArticle = TFDistilBertForSequenceClassification.from_pretrained('distilbert-base-uncased')"
      ],
      "execution_count": 8,
      "outputs": [
        {
          "output_type": "display_data",
          "data": {
            "application/vnd.jupyter.widget-view+json": {
              "model_id": "d0680494dc2245e981d6259b6cdc2cb4",
              "version_minor": 0,
              "version_major": 2
            },
            "text/plain": [
              "HBox(children=(FloatProgress(value=0.0, description='Downloading', max=231508.0, style=ProgressStyle(descripti…"
            ]
          },
          "metadata": {
            "tags": []
          }
        },
        {
          "output_type": "stream",
          "text": [
            "\n"
          ],
          "name": "stdout"
        },
        {
          "output_type": "display_data",
          "data": {
            "application/vnd.jupyter.widget-view+json": {
              "model_id": "0a9065c6f3a749a8905bb45bfc7d61cc",
              "version_minor": 0,
              "version_major": 2
            },
            "text/plain": [
              "HBox(children=(FloatProgress(value=0.0, description='Downloading', max=442.0, style=ProgressStyle(description_…"
            ]
          },
          "metadata": {
            "tags": []
          }
        },
        {
          "output_type": "stream",
          "text": [
            "\n"
          ],
          "name": "stdout"
        },
        {
          "output_type": "display_data",
          "data": {
            "application/vnd.jupyter.widget-view+json": {
              "model_id": "113d869a97174185b748a7076bf93c15",
              "version_minor": 0,
              "version_major": 2
            },
            "text/plain": [
              "HBox(children=(FloatProgress(value=0.0, description='Downloading', max=363423424.0, style=ProgressStyle(descri…"
            ]
          },
          "metadata": {
            "tags": []
          }
        },
        {
          "output_type": "stream",
          "text": [
            "\n"
          ],
          "name": "stdout"
        },
        {
          "output_type": "stream",
          "text": [
            "Some weights of the model checkpoint at distilbert-base-uncased were not used when initializing TFDistilBertForSequenceClassification: ['vocab_transform', 'activation_13', 'vocab_projector', 'vocab_layer_norm']\n",
            "- This IS expected if you are initializing TFDistilBertForSequenceClassification from the checkpoint of a model trained on another task or with another architecture (e.g. initializing a BertForSequenceClassification model from a BertForPretraining model).\n",
            "- This IS NOT expected if you are initializing TFDistilBertForSequenceClassification from the checkpoint of a model that you expect to be exactly identical (initializing a BertForSequenceClassification model from a BertForSequenceClassification model).\n",
            "Some weights of TFDistilBertForSequenceClassification were not initialized from the model checkpoint at distilbert-base-uncased and are newly initialized: ['classifier', 'pre_classifier', 'dropout_19']\n",
            "You should probably TRAIN this model on a down-stream task to be able to use it for predictions and inference.\n",
            "Some weights of the model checkpoint at distilbert-base-uncased were not used when initializing TFDistilBertForSequenceClassification: ['vocab_transform', 'activation_13', 'vocab_projector', 'vocab_layer_norm']\n",
            "- This IS expected if you are initializing TFDistilBertForSequenceClassification from the checkpoint of a model trained on another task or with another architecture (e.g. initializing a BertForSequenceClassification model from a BertForPretraining model).\n",
            "- This IS NOT expected if you are initializing TFDistilBertForSequenceClassification from the checkpoint of a model that you expect to be exactly identical (initializing a BertForSequenceClassification model from a BertForSequenceClassification model).\n",
            "Some weights of TFDistilBertForSequenceClassification were not initialized from the model checkpoint at distilbert-base-uncased and are newly initialized: ['classifier', 'dropout_39', 'pre_classifier']\n",
            "You should probably TRAIN this model on a down-stream task to be able to use it for predictions and inference.\n"
          ],
          "name": "stderr"
        }
      ]
    },
    {
      "cell_type": "markdown",
      "metadata": {
        "id": "wlZF00DbT0-W",
        "colab_type": "text"
      },
      "source": [
        "input ID creation for sequnces longer than 512:\n",
        "1. https://stackoverflow.com/questions/58636587/how-to-use-bert-for-long-text-classification\n",
        "2. https://arxiv.org/pdf/1905.05583.pdf\n",
        "\n",
        "Other transformers:\n",
        "1. Longformer: https://arxiv.org/pdf/2004.05150.pdf\n",
        "2. TransformerXL: https://arxiv.org/pdf/1901.02860.pdf"
      ]
    },
    {
      "cell_type": "code",
      "metadata": {
        "id": "Mm4mplMuKJ6x",
        "colab_type": "code",
        "colab": {}
      },
      "source": [
        "def tokenIDsale(inputarr): \n",
        "  tokenized = inputarr.apply((lambda x: tokenizer.encode(x, add_special_tokens=True)))\n",
        "\n",
        "  for x in range(len(tokenized)):\n",
        "    y = len(tokenized[x])\n",
        "    if(y>512):\n",
        "        start = tokenized[x][: 129]\n",
        "        end = tokenized[x][y-383 :]\n",
        "        temp = start + end\n",
        "        tokenized[x] = temp\n",
        "\n",
        "  max_len = 0\n",
        "  for i in tokenized.values:\n",
        "      if len(i) > max_len:\n",
        "          max_len = len(i)\n",
        "\n",
        "  padded = np.array([i + [0]*(max_len-len(i)) for i in tokenized.values])\n",
        "\n",
        "  return padded"
      ],
      "execution_count": 9,
      "outputs": []
    },
    {
      "cell_type": "markdown",
      "metadata": {
        "id": "kqNGQWdl7ZRp",
        "colab_type": "text"
      },
      "source": [
        "# Input ID tensor creation "
      ]
    },
    {
      "cell_type": "markdown",
      "metadata": {
        "id": "AXbWgOzj8WXE",
        "colab_type": "text"
      },
      "source": [
        "## By Publisher Dataset"
      ]
    },
    {
      "cell_type": "code",
      "metadata": {
        "id": "HZoCWsos7nS1",
        "colab_type": "code",
        "colab": {}
      },
      "source": [
        "train = pd.read_csv(train_path)"
      ],
      "execution_count": null,
      "outputs": []
    },
    {
      "cell_type": "code",
      "metadata": {
        "id": "CN-AcMDYKQDf",
        "colab_type": "code",
        "colab": {}
      },
      "source": [
        "%%capture\n",
        "train_plainID = tokenIDsale(train['content'])\n",
        "train_plainLABEL = train['truth']"
      ],
      "execution_count": null,
      "outputs": []
    },
    {
      "cell_type": "code",
      "metadata": {
        "id": "5RRl8yW94Mn9",
        "colab_type": "code",
        "colab": {
          "base_uri": "https://localhost:8080/",
          "height": 34
        },
        "outputId": "0b87f693-42d0-4749-f6c5-36dc93202c3a"
      },
      "source": [
        "print(\"train done\")"
      ],
      "execution_count": null,
      "outputs": [
        {
          "output_type": "stream",
          "text": [
            "train done\n"
          ],
          "name": "stdout"
        }
      ]
    },
    {
      "cell_type": "code",
      "metadata": {
        "id": "W_hGJT8LKb-f",
        "colab_type": "code",
        "colab": {
          "base_uri": "https://localhost:8080/",
          "height": 34
        },
        "outputId": "1226fb1e-3d1e-4ff2-8981-583f285ee374"
      },
      "source": [
        "input_text = tf.convert_to_tensor(train_plainID)\n",
        "input_label = tf.reshape(tf.constant(train_plainLABEL), (-1, 1))\n",
        "#input_mask = tf.convert_to_tensor(train_plainMASK)\n",
        "\n",
        "print(\"input tensor done\")"
      ],
      "execution_count": null,
      "outputs": [
        {
          "output_type": "stream",
          "text": [
            "input tensor done\n"
          ],
          "name": "stdout"
        }
      ]
    },
    {
      "cell_type": "code",
      "metadata": {
        "id": "B2FmALIB8QRR",
        "colab_type": "code",
        "colab": {}
      },
      "source": [
        "test = pd.read_csv(test_path)"
      ],
      "execution_count": null,
      "outputs": []
    },
    {
      "cell_type": "code",
      "metadata": {
        "id": "r1AWhOgk4GDw",
        "colab_type": "code",
        "colab": {}
      },
      "source": [
        "%%capture\n",
        "test_plainID = tokenIDsale(test['content'])\n",
        "test_plainLABEL = test['truth']"
      ],
      "execution_count": null,
      "outputs": []
    },
    {
      "cell_type": "code",
      "metadata": {
        "id": "MGBdb9AQ4ScR",
        "colab_type": "code",
        "colab": {
          "base_uri": "https://localhost:8080/",
          "height": 34
        },
        "outputId": "4c8e34cd-faab-4229-bb8c-fccb288c02d2"
      },
      "source": [
        "print(\"test done\")"
      ],
      "execution_count": null,
      "outputs": [
        {
          "output_type": "stream",
          "text": [
            "test done\n"
          ],
          "name": "stdout"
        }
      ]
    },
    {
      "cell_type": "code",
      "metadata": {
        "id": "jf3XB27rKddO",
        "colab_type": "code",
        "colab": {}
      },
      "source": [
        "output_text = tf.convert_to_tensor(test_plainID)\n",
        "output_label = tf.reshape(tf.constant(test_plainLABEL), (-1, 1))\n",
        "#output_mask = tf.convert_to_tensor(test_plainMASK)\n",
        "\n",
        "print(\"output tensor done\")"
      ],
      "execution_count": null,
      "outputs": []
    },
    {
      "cell_type": "markdown",
      "metadata": {
        "id": "_CZ68Ux18dWo",
        "colab_type": "text"
      },
      "source": [
        "## ByArticle Dataset"
      ]
    },
    {
      "cell_type": "code",
      "metadata": {
        "id": "PQHTzI6r7qQc",
        "colab_type": "code",
        "colab": {}
      },
      "source": [
        "article = pd.read_csv(article_path)"
      ],
      "execution_count": 10,
      "outputs": []
    },
    {
      "cell_type": "code",
      "metadata": {
        "id": "hjPGF1uaPUOc",
        "colab_type": "code",
        "colab": {}
      },
      "source": [
        "%%capture\n",
        "articles_plainID = tokenIDsale(article['content'])\n",
        "articles_plainLABEL = article['truth']"
      ],
      "execution_count": 11,
      "outputs": []
    },
    {
      "cell_type": "code",
      "metadata": {
        "id": "Nj4bCD_fPijp",
        "colab_type": "code",
        "colab": {
          "base_uri": "https://localhost:8080/",
          "height": 34
        },
        "outputId": "e3a272d2-fd69-475b-b119-95facd8a654c"
      },
      "source": [
        "print(\"article done\")"
      ],
      "execution_count": 12,
      "outputs": [
        {
          "output_type": "stream",
          "text": [
            "article done\n"
          ],
          "name": "stdout"
        }
      ]
    },
    {
      "cell_type": "code",
      "metadata": {
        "id": "nzpdjgeUPN20",
        "colab_type": "code",
        "colab": {}
      },
      "source": [
        "articles_text = tf.convert_to_tensor(articles_plainID)\n",
        "articles_label = tf.reshape(tf.constant(articles_plainLABEL), (-1, 1))"
      ],
      "execution_count": 13,
      "outputs": []
    },
    {
      "cell_type": "markdown",
      "metadata": {
        "id": "VvmcT68r80yZ",
        "colab_type": "text"
      },
      "source": [
        "## Pickling input tensor of byPublisher Dataset  "
      ]
    },
    {
      "cell_type": "code",
      "metadata": {
        "id": "YaU5axm5lpP6",
        "colab_type": "code",
        "colab": {}
      },
      "source": [
        "#with open('/content/drive/My Drive/NLP_proj/IDandLABEL/input_text.txt', 'wb') as fh:\n",
        "#  pickle.dump(input_text, fh)\n",
        "\n",
        "#with open('/content/drive/My Drive/NLP_proj/IDandLABEL/input_label.txt', 'wb') as fh:\n",
        "#  pickle.dump(input_label, fh)\n",
        "\n",
        "#with open('/content/drive/My Drive/NLP_proj/IDandLABEL/output_text.txt', 'wb') as fh:\n",
        "#  pickle.dump(output_text, fh)\n",
        "\n",
        "#with open('/content/drive/My Drive/NLP_proj/IDandLABEL/output_label.txt', 'wb') as fh:\n",
        "#  pickle.dump(output_label, fh)"
      ],
      "execution_count": 10,
      "outputs": []
    },
    {
      "cell_type": "code",
      "metadata": {
        "id": "6XRKxz2ZwAt2",
        "colab_type": "code",
        "colab": {}
      },
      "source": [
        "pickle_off = open (\"/content/drive/My Drive/NLP_proj/IDandLABEL/input_text.txt\", \"rb\")\n",
        "input_text = pickle.load(pickle_off)\n",
        "\n",
        "pickle_off = open (\"/content/drive/My Drive/NLP_proj/IDandLABEL/input_label.txt\", \"rb\")\n",
        "input_label = pickle.load(pickle_off)\n",
        "\n",
        "pickle_off = open (\"/content/drive/My Drive/NLP_proj/IDandLABEL/output_text.txt\", \"rb\")\n",
        "output_text = pickle.load(pickle_off)\n",
        "\n",
        "pickle_off = open (\"/content/drive/My Drive/NLP_proj/IDandLABEL/output_label.txt\", \"rb\")\n",
        "output_label = pickle.load(pickle_off)"
      ],
      "execution_count": 11,
      "outputs": []
    },
    {
      "cell_type": "markdown",
      "metadata": {
        "id": "eNsf83bW9Bok",
        "colab_type": "text"
      },
      "source": [
        "# ByPublisher Model Training "
      ]
    },
    {
      "cell_type": "markdown",
      "metadata": {
        "id": "33TatIc3Rrua",
        "colab_type": "text"
      },
      "source": [
        "Terminology: https://tolotra.com/2018/07/25/what-is-the-difference-between-step-batch-size-epoch-iteration-machine-learning-terminology/\n",
        "\n",
        "Callbacks\n",
        "1. https://keras.io/api/models/model_training_apis/\n",
        "2. https://www.kdnuggets.com/2019/08/keras-callbacks-explained-three-minutes.html\n",
        "\n",
        "\n",
        "ES callback \n",
        "1. https://machinelearningmastery.com/how-to-stop-training-deep-neural-networks-at-the-right-time-using-early-stopping/\n",
        "2. https://www.tensorflow.org/api_docs/python/tf/keras/callbacks/EarlyStopping\n",
        "3. https://machinelearningmastery.com/early-stopping-to-avoid-overtraining-neural-network-models/#:~:text=During%20training%2C%20the%20model%20is,the%20training%20process%20is%20stopped.\n",
        "\n",
        "Optimisers\n",
        "1. https://www.kaggle.com/residentmario/keras-optimizers\n",
        "\n",
        "Losses:\n",
        "1. https://www.tensorflow.org/api_docs/python/tf/keras/losses/BinaryCrossentropy\n",
        "\n",
        "Loading Weights into model:\n",
        "1. https://stackoverflow.com/questions/41859997/keras-model-load-weights-for-neural-net/41860156"
      ]
    },
    {
      "cell_type": "code",
      "metadata": {
        "id": "6W-TLsPhTeSh",
        "colab_type": "code",
        "colab": {
          "base_uri": "https://localhost:8080/",
          "height": 262
        },
        "outputId": "a26ed6df-1757-4de5-a50c-49de9f9df6af"
      },
      "source": [
        "optimizer = tf.keras.optimizers.Adam(learning_rate=0.000001)\n",
        "loss = tf.keras.losses.SparseCategoricalCrossentropy(from_logits=True)\n",
        "#callback_es = tf.keras.callbacks.EarlyStopping(monitor='val_loss', mode='min', verbose=1, patience=14,min_delta=0)\n",
        "callback_mc_loss = tf.keras.callbacks.ModelCheckpoint(byPublisher_lossModel, monitor='val_loss', mode='min', verbose=1, save_best_only=True, save_weights_only=True)\n",
        "callback_mc_acc = tf.keras.callbacks.ModelCheckpoint(byPublisher_accModel, monitor='val_acc', mode='max', verbose=1, save_best_only=True, save_weights_only=True)\n",
        "model_byPublisher.compile(optimizer=optimizer, loss=loss,metrics=[keras.metrics.SparseCategoricalAccuracy(name=\"acc\")])"
      ],
      "execution_count": 6,
      "outputs": [
        {
          "output_type": "error",
          "ename": "NameError",
          "evalue": "ignored",
          "traceback": [
            "\u001b[0;31m---------------------------------------------------------------------------\u001b[0m",
            "\u001b[0;31mNameError\u001b[0m                                 Traceback (most recent call last)",
            "\u001b[0;32m<ipython-input-6-82ebf9f92597>\u001b[0m in \u001b[0;36m<module>\u001b[0;34m()\u001b[0m\n\u001b[1;32m      2\u001b[0m \u001b[0mloss\u001b[0m \u001b[0;34m=\u001b[0m \u001b[0mtf\u001b[0m\u001b[0;34m.\u001b[0m\u001b[0mkeras\u001b[0m\u001b[0;34m.\u001b[0m\u001b[0mlosses\u001b[0m\u001b[0;34m.\u001b[0m\u001b[0mSparseCategoricalCrossentropy\u001b[0m\u001b[0;34m(\u001b[0m\u001b[0mfrom_logits\u001b[0m\u001b[0;34m=\u001b[0m\u001b[0;32mTrue\u001b[0m\u001b[0;34m)\u001b[0m\u001b[0;34m\u001b[0m\u001b[0;34m\u001b[0m\u001b[0m\n\u001b[1;32m      3\u001b[0m \u001b[0;31m#callback_es = tf.keras.callbacks.EarlyStopping(monitor='val_loss', mode='min', verbose=1, patience=14,min_delta=0)\u001b[0m\u001b[0;34m\u001b[0m\u001b[0;34m\u001b[0m\u001b[0;34m\u001b[0m\u001b[0m\n\u001b[0;32m----> 4\u001b[0;31m \u001b[0mcallback_mc_loss\u001b[0m \u001b[0;34m=\u001b[0m \u001b[0mtf\u001b[0m\u001b[0;34m.\u001b[0m\u001b[0mkeras\u001b[0m\u001b[0;34m.\u001b[0m\u001b[0mcallbacks\u001b[0m\u001b[0;34m.\u001b[0m\u001b[0mModelCheckpoint\u001b[0m\u001b[0;34m(\u001b[0m\u001b[0mbyPublisher_lossModel\u001b[0m\u001b[0;34m,\u001b[0m \u001b[0mmonitor\u001b[0m\u001b[0;34m=\u001b[0m\u001b[0;34m'val_loss'\u001b[0m\u001b[0;34m,\u001b[0m \u001b[0mmode\u001b[0m\u001b[0;34m=\u001b[0m\u001b[0;34m'min'\u001b[0m\u001b[0;34m,\u001b[0m \u001b[0mverbose\u001b[0m\u001b[0;34m=\u001b[0m\u001b[0;36m1\u001b[0m\u001b[0;34m,\u001b[0m \u001b[0msave_best_only\u001b[0m\u001b[0;34m=\u001b[0m\u001b[0;32mTrue\u001b[0m\u001b[0;34m,\u001b[0m \u001b[0msave_weights_only\u001b[0m\u001b[0;34m=\u001b[0m\u001b[0;32mTrue\u001b[0m\u001b[0;34m)\u001b[0m\u001b[0;34m\u001b[0m\u001b[0;34m\u001b[0m\u001b[0m\n\u001b[0m\u001b[1;32m      5\u001b[0m \u001b[0mcallback_mc_acc\u001b[0m \u001b[0;34m=\u001b[0m \u001b[0mtf\u001b[0m\u001b[0;34m.\u001b[0m\u001b[0mkeras\u001b[0m\u001b[0;34m.\u001b[0m\u001b[0mcallbacks\u001b[0m\u001b[0;34m.\u001b[0m\u001b[0mModelCheckpoint\u001b[0m\u001b[0;34m(\u001b[0m\u001b[0mbyPublisher_accModel\u001b[0m\u001b[0;34m,\u001b[0m \u001b[0mmonitor\u001b[0m\u001b[0;34m=\u001b[0m\u001b[0;34m'val_acc'\u001b[0m\u001b[0;34m,\u001b[0m \u001b[0mmode\u001b[0m\u001b[0;34m=\u001b[0m\u001b[0;34m'max'\u001b[0m\u001b[0;34m,\u001b[0m \u001b[0mverbose\u001b[0m\u001b[0;34m=\u001b[0m\u001b[0;36m1\u001b[0m\u001b[0;34m,\u001b[0m \u001b[0msave_best_only\u001b[0m\u001b[0;34m=\u001b[0m\u001b[0;32mTrue\u001b[0m\u001b[0;34m,\u001b[0m \u001b[0msave_weights_only\u001b[0m\u001b[0;34m=\u001b[0m\u001b[0;32mTrue\u001b[0m\u001b[0;34m)\u001b[0m\u001b[0;34m\u001b[0m\u001b[0;34m\u001b[0m\u001b[0m\n\u001b[1;32m      6\u001b[0m \u001b[0mmodel_byPublisher\u001b[0m\u001b[0;34m.\u001b[0m\u001b[0mcompile\u001b[0m\u001b[0;34m(\u001b[0m\u001b[0moptimizer\u001b[0m\u001b[0;34m=\u001b[0m\u001b[0moptimizer\u001b[0m\u001b[0;34m,\u001b[0m \u001b[0mloss\u001b[0m\u001b[0;34m=\u001b[0m\u001b[0mloss\u001b[0m\u001b[0;34m,\u001b[0m\u001b[0mmetrics\u001b[0m\u001b[0;34m=\u001b[0m\u001b[0;34m[\u001b[0m\u001b[0mkeras\u001b[0m\u001b[0;34m.\u001b[0m\u001b[0mmetrics\u001b[0m\u001b[0;34m.\u001b[0m\u001b[0mSparseCategoricalAccuracy\u001b[0m\u001b[0;34m(\u001b[0m\u001b[0mname\u001b[0m\u001b[0;34m=\u001b[0m\u001b[0;34m\"acc\"\u001b[0m\u001b[0;34m)\u001b[0m\u001b[0;34m]\u001b[0m\u001b[0;34m)\u001b[0m\u001b[0;34m\u001b[0m\u001b[0;34m\u001b[0m\u001b[0m\n",
            "\u001b[0;31mNameError\u001b[0m: name 'byPublisher_lossModel' is not defined"
          ]
        }
      ]
    },
    {
      "cell_type": "code",
      "metadata": {
        "id": "zAO0jMykNfXM",
        "colab_type": "code",
        "colab": {
          "base_uri": "https://localhost:8080/",
          "height": 50
        },
        "outputId": "bb349bb5-8ebc-490e-d1c3-294c6f9f5ff2"
      },
      "source": [
        "print(len(input_text))\n",
        "print(len(output_label))"
      ],
      "execution_count": 13,
      "outputs": [
        {
          "output_type": "stream",
          "text": [
            "600000\n",
            "150000\n"
          ],
          "name": "stdout"
        }
      ]
    },
    {
      "cell_type": "code",
      "metadata": {
        "id": "mT5MGemWAg5I",
        "colab_type": "code",
        "colab": {
          "base_uri": "https://localhost:8080/",
          "height": 1000
        },
        "outputId": "3f6bc057-cbcb-41bc-cc7b-8105b8e56d21"
      },
      "source": [
        "history_byPublisher = model_byPublisher.fit(x= input_text, y = input_label, epochs=24, batch_size=25, steps_per_epoch=1000,\n",
        "          validation_data=(output_text,output_label),validation_batch_size=25, validation_steps=400,\n",
        "          use_multiprocessing = True, callbacks = [callback_mc_loss,callback_mc_acc])"
      ],
      "execution_count": 14,
      "outputs": [
        {
          "output_type": "stream",
          "text": [
            "Epoch 1/24\n",
            "1000/1000 [==============================] - ETA: 0s - loss: 0.4663 - acc: 0.7740WARNING:tensorflow:Callbacks method `on_test_batch_end` is slow compared to the batch time (batch time: 0.0038s vs `on_test_batch_end` time: 0.2299s). Check your callbacks.\n",
            "\n",
            "Epoch 00001: val_loss improved from inf to 0.83108, saving model to /content/drive/My Drive/NLP_proj/Models/MIDbestLoss_byPublisher_model.h5\n",
            "\n",
            "Epoch 00001: val_acc improved from -inf to 0.56190, saving model to /content/drive/My Drive/NLP_proj/Models/MIDbestAcc_byPublisher_model.h5\n",
            "1000/1000 [==============================] - 886s 886ms/step - loss: 0.4663 - acc: 0.7740 - val_loss: 0.8311 - val_acc: 0.5619\n",
            "Epoch 2/24\n",
            "1000/1000 [==============================] - ETA: 0s - loss: 0.2745 - acc: 0.8846\n",
            "Epoch 00002: val_loss did not improve from 0.83108\n",
            "\n",
            "Epoch 00002: val_acc improved from 0.56190 to 0.58100, saving model to /content/drive/My Drive/NLP_proj/Models/MIDbestAcc_byPublisher_model.h5\n",
            "1000/1000 [==============================] - 874s 874ms/step - loss: 0.2745 - acc: 0.8846 - val_loss: 0.8700 - val_acc: 0.5810\n",
            "Epoch 3/24\n",
            "1000/1000 [==============================] - ETA: 0s - loss: 0.2250 - acc: 0.9054\n",
            "Epoch 00003: val_loss did not improve from 0.83108\n",
            "\n",
            "Epoch 00003: val_acc improved from 0.58100 to 0.58140, saving model to /content/drive/My Drive/NLP_proj/Models/MIDbestAcc_byPublisher_model.h5\n",
            "1000/1000 [==============================] - 875s 875ms/step - loss: 0.2250 - acc: 0.9054 - val_loss: 0.9062 - val_acc: 0.5814\n",
            "Epoch 4/24\n",
            "1000/1000 [==============================] - ETA: 0s - loss: 0.2101 - acc: 0.9122\n",
            "Epoch 00004: val_loss did not improve from 0.83108\n",
            "\n",
            "Epoch 00004: val_acc improved from 0.58140 to 0.59990, saving model to /content/drive/My Drive/NLP_proj/Models/MIDbestAcc_byPublisher_model.h5\n",
            "1000/1000 [==============================] - 877s 877ms/step - loss: 0.2101 - acc: 0.9122 - val_loss: 0.8657 - val_acc: 0.5999\n",
            "Epoch 5/24\n",
            "1000/1000 [==============================] - ETA: 0s - loss: 0.1978 - acc: 0.9166\n",
            "Epoch 00005: val_loss did not improve from 0.83108\n",
            "\n",
            "Epoch 00005: val_acc did not improve from 0.59990\n",
            "1000/1000 [==============================] - 874s 874ms/step - loss: 0.1978 - acc: 0.9166 - val_loss: 0.9513 - val_acc: 0.5812\n",
            "Epoch 6/24\n",
            "1000/1000 [==============================] - ETA: 0s - loss: 0.1799 - acc: 0.9258\n",
            "Epoch 00006: val_loss did not improve from 0.83108\n",
            "\n",
            "Epoch 00006: val_acc did not improve from 0.59990\n",
            "1000/1000 [==============================] - 874s 874ms/step - loss: 0.1799 - acc: 0.9258 - val_loss: 0.9688 - val_acc: 0.5914\n",
            "Epoch 7/24\n",
            "1000/1000 [==============================] - ETA: 0s - loss: 0.1760 - acc: 0.9275\n",
            "Epoch 00007: val_loss did not improve from 0.83108\n",
            "\n",
            "Epoch 00007: val_acc did not improve from 0.59990\n",
            "1000/1000 [==============================] - 875s 875ms/step - loss: 0.1760 - acc: 0.9275 - val_loss: 1.0105 - val_acc: 0.5779\n",
            "Epoch 8/24\n",
            "1000/1000 [==============================] - ETA: 0s - loss: 0.1673 - acc: 0.9302\n",
            "Epoch 00008: val_loss did not improve from 0.83108\n",
            "\n",
            "Epoch 00008: val_acc did not improve from 0.59990\n",
            "1000/1000 [==============================] - 875s 875ms/step - loss: 0.1673 - acc: 0.9302 - val_loss: 1.0605 - val_acc: 0.5784\n",
            "Epoch 9/24\n",
            "1000/1000 [==============================] - ETA: 0s - loss: 0.1584 - acc: 0.9334\n",
            "Epoch 00009: val_loss did not improve from 0.83108\n",
            "\n",
            "Epoch 00009: val_acc did not improve from 0.59990\n",
            "1000/1000 [==============================] - 875s 875ms/step - loss: 0.1584 - acc: 0.9334 - val_loss: 1.0730 - val_acc: 0.5745\n",
            "Epoch 10/24\n",
            "1000/1000 [==============================] - ETA: 0s - loss: 0.1523 - acc: 0.9386\n",
            "Epoch 00010: val_loss did not improve from 0.83108\n",
            "\n",
            "Epoch 00010: val_acc did not improve from 0.59990\n",
            "1000/1000 [==============================] - 875s 875ms/step - loss: 0.1523 - acc: 0.9386 - val_loss: 1.1676 - val_acc: 0.5720\n",
            "Epoch 11/24\n",
            "1000/1000 [==============================] - ETA: 0s - loss: 0.1470 - acc: 0.9407\n",
            "Epoch 00011: val_loss did not improve from 0.83108\n",
            "\n",
            "Epoch 00011: val_acc did not improve from 0.59990\n",
            "1000/1000 [==============================] - 875s 875ms/step - loss: 0.1470 - acc: 0.9407 - val_loss: 0.9794 - val_acc: 0.5968\n",
            "Epoch 12/24\n",
            "1000/1000 [==============================] - ETA: 0s - loss: 0.1474 - acc: 0.9391\n",
            "Epoch 00012: val_loss did not improve from 0.83108\n",
            "\n",
            "Epoch 00012: val_acc did not improve from 0.59990\n",
            "1000/1000 [==============================] - 875s 875ms/step - loss: 0.1474 - acc: 0.9391 - val_loss: 1.0884 - val_acc: 0.5894\n",
            "Epoch 13/24\n",
            "1000/1000 [==============================] - ETA: 0s - loss: 0.1395 - acc: 0.9435\n",
            "Epoch 00013: val_loss did not improve from 0.83108\n",
            "\n",
            "Epoch 00013: val_acc did not improve from 0.59990\n",
            "1000/1000 [==============================] - 875s 875ms/step - loss: 0.1395 - acc: 0.9435 - val_loss: 1.0838 - val_acc: 0.5901\n",
            "Epoch 14/24\n",
            "1000/1000 [==============================] - ETA: 0s - loss: 0.1343 - acc: 0.9465\n",
            "Epoch 00014: val_loss did not improve from 0.83108\n",
            "\n",
            "Epoch 00014: val_acc did not improve from 0.59990\n",
            "1000/1000 [==============================] - 875s 875ms/step - loss: 0.1343 - acc: 0.9465 - val_loss: 1.1794 - val_acc: 0.5834\n",
            "Epoch 15/24\n",
            "1000/1000 [==============================] - ETA: 0s - loss: 0.1389 - acc: 0.9436\n",
            "Epoch 00015: val_loss did not improve from 0.83108\n",
            "\n",
            "Epoch 00015: val_acc improved from 0.59990 to 0.60220, saving model to /content/drive/My Drive/NLP_proj/Models/MIDbestAcc_byPublisher_model.h5\n",
            "1000/1000 [==============================] - 876s 876ms/step - loss: 0.1389 - acc: 0.9436 - val_loss: 1.0102 - val_acc: 0.6022\n",
            "Epoch 16/24\n",
            "1000/1000 [==============================] - ETA: 0s - loss: 0.1326 - acc: 0.9454\n",
            "Epoch 00016: val_loss did not improve from 0.83108\n",
            "\n",
            "Epoch 00016: val_acc improved from 0.60220 to 0.61020, saving model to /content/drive/My Drive/NLP_proj/Models/MIDbestAcc_byPublisher_model.h5\n",
            "1000/1000 [==============================] - 876s 876ms/step - loss: 0.1326 - acc: 0.9454 - val_loss: 0.9950 - val_acc: 0.6102\n",
            "Epoch 17/24\n",
            "1000/1000 [==============================] - ETA: 0s - loss: 0.1289 - acc: 0.9477\n",
            "Epoch 00017: val_loss did not improve from 0.83108\n",
            "\n",
            "Epoch 00017: val_acc did not improve from 0.61020\n",
            "1000/1000 [==============================] - 875s 875ms/step - loss: 0.1289 - acc: 0.9477 - val_loss: 1.0999 - val_acc: 0.5963\n",
            "Epoch 18/24\n",
            "1000/1000 [==============================] - ETA: 0s - loss: 0.1203 - acc: 0.9515\n",
            "Epoch 00018: val_loss did not improve from 0.83108\n",
            "\n",
            "Epoch 00018: val_acc did not improve from 0.61020\n",
            "1000/1000 [==============================] - 874s 874ms/step - loss: 0.1203 - acc: 0.9515 - val_loss: 1.0741 - val_acc: 0.6063\n",
            "Epoch 19/24\n",
            "1000/1000 [==============================] - ETA: 0s - loss: 0.1222 - acc: 0.9510\n",
            "Epoch 00019: val_loss did not improve from 0.83108\n",
            "\n",
            "Epoch 00019: val_acc improved from 0.61020 to 0.61310, saving model to /content/drive/My Drive/NLP_proj/Models/MIDbestAcc_byPublisher_model.h5\n",
            "1000/1000 [==============================] - 877s 877ms/step - loss: 0.1222 - acc: 0.9510 - val_loss: 0.9948 - val_acc: 0.6131\n",
            "Epoch 20/24\n",
            "1000/1000 [==============================] - ETA: 0s - loss: 0.1244 - acc: 0.9489\n",
            "Epoch 00020: val_loss did not improve from 0.83108\n",
            "\n",
            "Epoch 00020: val_acc did not improve from 0.61310\n",
            "1000/1000 [==============================] - 874s 874ms/step - loss: 0.1244 - acc: 0.9489 - val_loss: 1.0327 - val_acc: 0.6121\n",
            "Epoch 21/24\n",
            "1000/1000 [==============================] - ETA: 0s - loss: 0.1182 - acc: 0.9519\n",
            "Epoch 00021: val_loss did not improve from 0.83108\n",
            "\n",
            "Epoch 00021: val_acc did not improve from 0.61310\n",
            "1000/1000 [==============================] - 874s 874ms/step - loss: 0.1182 - acc: 0.9519 - val_loss: 1.0713 - val_acc: 0.6047\n",
            "Epoch 22/24\n",
            "1000/1000 [==============================] - ETA: 0s - loss: 0.1158 - acc: 0.9541\n",
            "Epoch 00022: val_loss did not improve from 0.83108\n",
            "\n",
            "Epoch 00022: val_acc did not improve from 0.61310\n",
            "1000/1000 [==============================] - 874s 874ms/step - loss: 0.1158 - acc: 0.9541 - val_loss: 1.1739 - val_acc: 0.5957\n",
            "Epoch 23/24\n",
            "1000/1000 [==============================] - ETA: 0s - loss: 0.1146 - acc: 0.9536\n",
            "Epoch 00023: val_loss did not improve from 0.83108\n",
            "\n",
            "Epoch 00023: val_acc did not improve from 0.61310\n",
            "1000/1000 [==============================] - 874s 874ms/step - loss: 0.1146 - acc: 0.9536 - val_loss: 1.1378 - val_acc: 0.6109\n",
            "Epoch 24/24\n",
            "1000/1000 [==============================] - ETA: 0s - loss: 0.1078 - acc: 0.9576\n",
            "Epoch 00024: val_loss did not improve from 0.83108\n",
            "\n",
            "Epoch 00024: val_acc improved from 0.61310 to 0.61340, saving model to /content/drive/My Drive/NLP_proj/Models/MIDbestAcc_byPublisher_model.h5\n",
            "1000/1000 [==============================] - 875s 875ms/step - loss: 0.1078 - acc: 0.9576 - val_loss: 1.0545 - val_acc: 0.6134\n"
          ],
          "name": "stdout"
        }
      ]
    },
    {
      "cell_type": "code",
      "metadata": {
        "id": "ljOag47LupFI",
        "colab_type": "code",
        "colab": {}
      },
      "source": [
        "model_byPublisher.save_weights(byPublisher_fullModel)"
      ],
      "execution_count": 15,
      "outputs": []
    },
    {
      "cell_type": "code",
      "metadata": {
        "id": "JQs505HXE5nt",
        "colab_type": "code",
        "colab": {
          "base_uri": "https://localhost:8080/",
          "height": 50
        },
        "outputId": "5ad71224-c669-4c92-813a-d19a1cb3396e"
      },
      "source": [
        "#_,test_acc = model.evaluate(x = output_text, y = output_label)\n",
        "#print(\"test: \",test_acc)\n",
        "#_,train_acc = model.evaluate(x = input_text, y = input_label)\n",
        "#print(\"train: \",train_acc)"
      ],
      "execution_count": null,
      "outputs": [
        {
          "output_type": "stream",
          "text": [
            "4688/4688 [==============================] - 1492s 318ms/step - loss: 1.1330 - acc: 0.5982\n",
            "test:  0.5981600284576416\n"
          ],
          "name": "stdout"
        }
      ]
    },
    {
      "cell_type": "markdown",
      "metadata": {
        "id": "MiTxO-JeIK1H",
        "colab_type": "text"
      },
      "source": [
        "*   Full Model: 24epoch acc:0.6134  loss:1.0545\n",
        "*   Max Accuracy:0.6134 atEpoch:24\n",
        "*   Min Loss:0.83108 atEpoch:1\n",
        "---\n",
        "\n"
      ]
    },
    {
      "cell_type": "markdown",
      "metadata": {
        "id": "NRbFU3S_-HCA",
        "colab_type": "text"
      },
      "source": [
        "# ByPublisher Model Results"
      ]
    },
    {
      "cell_type": "markdown",
      "metadata": {
        "id": "-7D6EhNsJCyk",
        "colab_type": "text"
      },
      "source": [
        "Load Weights:\n",
        "1. https://stackoverflow.com/questions/41859997/keras-model-load-weights-for-neural-net/41860156"
      ]
    },
    {
      "cell_type": "code",
      "metadata": {
        "id": "Xd1gtW4r-Krx",
        "colab_type": "code",
        "colab": {
          "base_uri": "https://localhost:8080/",
          "height": 289
        },
        "outputId": "8b4b8b74-ed03-4ea9-cc91-6ac708bcbc3d"
      },
      "source": [
        "model_publisher_loss = TFDistilBertForSequenceClassification.from_pretrained('distilbert-base-uncased')\n",
        "model_publisher_loss.compile(optimizer=optimizer, loss=loss,metrics=[keras.metrics.SparseCategoricalAccuracy(name=\"acc\")])\n",
        "model_publisher_loss.load_weights(byPublisher_lossModel)\n",
        "\n",
        "model_publisher_acc = TFDistilBertForSequenceClassification.from_pretrained('distilbert-base-uncased')\n",
        "model_publisher_acc.compile(optimizer=optimizer, loss=loss,metrics=[keras.metrics.SparseCategoricalAccuracy(name=\"acc\")])\n",
        "model_publisher_acc.load_weights(byPublisher_accModel)\n",
        "\n",
        "model_publisher_full = TFDistilBertForSequenceClassification.from_pretrained('distilbert-base-uncased')\n",
        "model_publisher_full.compile(optimizer=optimizer, loss=loss,metrics=[keras.metrics.SparseCategoricalAccuracy(name=\"acc\")])\n",
        "model_publisher_full.load_weights(byPublisher_fullModel)"
      ],
      "execution_count": 12,
      "outputs": [
        {
          "output_type": "stream",
          "text": [
            "Some weights of the model checkpoint at distilbert-base-uncased were not used when initializing TFDistilBertForSequenceClassification: ['vocab_layer_norm', 'vocab_projector', 'vocab_transform', 'activation_13']\n",
            "- This IS expected if you are initializing TFDistilBertForSequenceClassification from the checkpoint of a model trained on another task or with another architecture (e.g. initializing a BertForSequenceClassification model from a BertForPretraining model).\n",
            "- This IS NOT expected if you are initializing TFDistilBertForSequenceClassification from the checkpoint of a model that you expect to be exactly identical (initializing a BertForSequenceClassification model from a BertForSequenceClassification model).\n",
            "Some weights of TFDistilBertForSequenceClassification were not initialized from the model checkpoint at distilbert-base-uncased and are newly initialized: ['pre_classifier', 'dropout_59', 'classifier']\n",
            "You should probably TRAIN this model on a down-stream task to be able to use it for predictions and inference.\n",
            "Some weights of the model checkpoint at distilbert-base-uncased were not used when initializing TFDistilBertForSequenceClassification: ['vocab_layer_norm', 'vocab_projector', 'vocab_transform', 'activation_13']\n",
            "- This IS expected if you are initializing TFDistilBertForSequenceClassification from the checkpoint of a model trained on another task or with another architecture (e.g. initializing a BertForSequenceClassification model from a BertForPretraining model).\n",
            "- This IS NOT expected if you are initializing TFDistilBertForSequenceClassification from the checkpoint of a model that you expect to be exactly identical (initializing a BertForSequenceClassification model from a BertForSequenceClassification model).\n",
            "Some weights of TFDistilBertForSequenceClassification were not initialized from the model checkpoint at distilbert-base-uncased and are newly initialized: ['pre_classifier', 'classifier', 'dropout_79']\n",
            "You should probably TRAIN this model on a down-stream task to be able to use it for predictions and inference.\n",
            "Some weights of the model checkpoint at distilbert-base-uncased were not used when initializing TFDistilBertForSequenceClassification: ['vocab_layer_norm', 'vocab_projector', 'vocab_transform', 'activation_13']\n",
            "- This IS expected if you are initializing TFDistilBertForSequenceClassification from the checkpoint of a model trained on another task or with another architecture (e.g. initializing a BertForSequenceClassification model from a BertForPretraining model).\n",
            "- This IS NOT expected if you are initializing TFDistilBertForSequenceClassification from the checkpoint of a model that you expect to be exactly identical (initializing a BertForSequenceClassification model from a BertForSequenceClassification model).\n",
            "Some weights of TFDistilBertForSequenceClassification were not initialized from the model checkpoint at distilbert-base-uncased and are newly initialized: ['pre_classifier', 'dropout_99', 'classifier']\n",
            "You should probably TRAIN this model on a down-stream task to be able to use it for predictions and inference.\n"
          ],
          "name": "stderr"
        }
      ]
    },
    {
      "cell_type": "code",
      "metadata": {
        "id": "O55wY9pcNnST",
        "colab_type": "code",
        "colab": {}
      },
      "source": [
        "model_publisher_loss.save_pretrained(\"/content/drive/My Drive/NLP_proj/publisher model LOSS/\")\n",
        "model_publisher_acc.save_pretrained(\"/content/drive/My Drive/NLP_proj/publisher model ACC/\")"
      ],
      "execution_count": 13,
      "outputs": []
    },
    {
      "cell_type": "code",
      "metadata": {
        "id": "QoREpIIOBrRb",
        "colab_type": "code",
        "colab": {
          "base_uri": "https://localhost:8080/",
          "height": 118
        },
        "outputId": "3fd3d08d-13a8-4655-981f-e6409d571206"
      },
      "source": [
        "_,test_acc = model_publisher_acc.evaluate(x = output_text, y = output_label)\n",
        "print(\"byPublisher_ACC_model: \",test_acc)\n",
        "_,test_acc = model_publisher_loss.evaluate(x = output_text, y = output_label)\n",
        "print(\"byPublisher_LOSS_model: \",test_acc)\n",
        "_,test_acc = model_publisher_full.evaluate(x = output_text, y = output_label)\n",
        "print(\"byPublisher_FULL_model: \",test_acc)"
      ],
      "execution_count": 19,
      "outputs": [
        {
          "output_type": "stream",
          "text": [
            "4688/4688 [==============================] - 1486s 317ms/step - loss: 1.0628 - acc: 0.6119\n",
            "byPublisher_ACC_model:  0.6119199991226196\n",
            "4688/4688 [==============================] - 1487s 317ms/step - loss: 0.8343 - acc: 0.5561\n",
            "byPublisher_LOSS_model:  0.5561333298683167\n",
            "4688/4688 [==============================] - 1486s 317ms/step - loss: 1.0628 - acc: 0.6119\n",
            "byPublisher_FULL_model:  0.6119199991226196\n"
          ],
          "name": "stdout"
        }
      ]
    },
    {
      "cell_type": "markdown",
      "metadata": {
        "id": "QZsslHPcZLDn",
        "colab_type": "text"
      },
      "source": [
        "Plot loss and acc graph:\n",
        "https://machinelearningmastery.com/display-deep-learning-model-training-history-in-keras/"
      ]
    },
    {
      "cell_type": "code",
      "metadata": {
        "id": "-DtK4b6qCYra",
        "colab_type": "code",
        "colab": {
          "base_uri": "https://localhost:8080/",
          "height": 312
        },
        "outputId": "3394a1d2-d822-478d-a338-4b2abaec3408"
      },
      "source": [
        "plt.plot(history_byPublisher.history['acc'])\n",
        "plt.plot(history_byPublisher.history['val_acc'])\n",
        "plt.title('model accuracy')\n",
        "plt.ylabel('accuracy')\n",
        "plt.xlabel('epoch')\n",
        "plt.legend(['train', 'test'], loc='upper left')\n",
        "plt.show()\n",
        "plt.savefig(epochGraph_byPublisher_acc_PNG)\n",
        "plt.savefig(epochGraph_byPublisher_acc_PDF)"
      ],
      "execution_count": 16,
      "outputs": [
        {
          "output_type": "display_data",
          "data": {
            "image/png": "[encoded data removed]",
            "text/plain": [
              "<Figure size 432x288 with 1 Axes>"
            ]
          },
          "metadata": {
            "tags": [],
            "needs_background": "light"
          }
        },
        {
          "output_type": "display_data",
          "data": {
            "text/plain": [
              "<Figure size 432x288 with 0 Axes>"
            ]
          },
          "metadata": {
            "tags": []
          }
        }
      ]
    },
    {
      "cell_type": "code",
      "metadata": {
        "id": "uI-26e4CCZK_",
        "colab_type": "code",
        "colab": {
          "base_uri": "https://localhost:8080/",
          "height": 312
        },
        "outputId": "a7e521e4-51cf-4741-9b64-0e4485d6f154"
      },
      "source": [
        "plt.plot(history_byPublisher.history['loss'])\n",
        "plt.plot(history_byPublisher.history['val_loss'])\n",
        "plt.title('model loss')\n",
        "plt.ylabel('loss')\n",
        "plt.xlabel('epoch')\n",
        "plt.legend(['train', 'test'], loc='upper left')\n",
        "plt.show()\n",
        "plt.savefig(epochGraph_byPublisher_loss_PNG)\n",
        "plt.savefig(epochGraph_byPublisher_loss_PDF)"
      ],
      "execution_count": 17,
      "outputs": [
        {
          "output_type": "display_data",
          "data": {
            "image/png": "[encoded data removed]",
            "text/plain": [
              "<Figure size 432x288 with 1 Axes>"
            ]
          },
          "metadata": {
            "tags": [],
            "needs_background": "light"
          }
        },
        {
          "output_type": "display_data",
          "data": {
            "text/plain": [
              "<Figure size 432x288 with 0 Axes>"
            ]
          },
          "metadata": {
            "tags": []
          }
        }
      ]
    },
    {
      "cell_type": "markdown",
      "metadata": {
        "id": "XaRZ7jz69VlQ",
        "colab_type": "text"
      },
      "source": [
        "# ByArticle Model Training"
      ]
    },
    {
      "cell_type": "code",
      "metadata": {
        "id": "65HrCFTurU4y",
        "colab_type": "code",
        "colab": {}
      },
      "source": [
        "optimizer = tf.keras.optimizers.Adam(learning_rate=0.000001)\n",
        "loss = tf.keras.losses.SparseCategoricalCrossentropy(from_logits=True)\n",
        "callback_es = tf.keras.callbacks.EarlyStopping(monitor='val_loss', mode='min', verbose=1, patience=10,min_delta=0)\n",
        "callback_mc_loss = tf.keras.callbacks.ModelCheckpoint(byArticle_lossModel, monitor='val_loss', mode='min', verbose=1, save_best_only=True, save_weights_only=True)\n",
        "callback_mc_acc = tf.keras.callbacks.ModelCheckpoint(byArticle_accModel, monitor='val_acc', mode='max', verbose=1, save_best_only=True, save_weights_only=True)\n",
        "model_byArticle.compile(optimizer=optimizer, loss=loss,metrics=[keras.metrics.SparseCategoricalAccuracy(name=\"acc\")])"
      ],
      "execution_count": 14,
      "outputs": []
    },
    {
      "cell_type": "code",
      "metadata": {
        "id": "w0giUZ2XP_aI",
        "colab_type": "code",
        "colab": {
          "base_uri": "https://localhost:8080/",
          "height": 1000
        },
        "outputId": "f22fe082-b8da-420c-8e5e-99bad8440255"
      },
      "source": [
        "history_byArticle = model_byArticle.fit(x= articles_text, y = articles_label, epochs=100, batch_size=20,\n",
        "          validation_split=0.2,validation_batch_size=20,\n",
        "          use_multiprocessing = True, callbacks = [callback_mc_loss, callback_mc_acc])"
      ],
      "execution_count": 15,
      "outputs": [
        {
          "output_type": "stream",
          "text": [
            "Epoch 1/100\n",
            "26/26 [==============================] - ETA: 0s - loss: 0.6776 - acc: 0.6143\n",
            "Epoch 00001: val_loss improved from inf to 0.65108, saving model to /content/drive/My Drive/NLP_proj/Models/bestLoss_byArticle_model.h5\n",
            "\n",
            "Epoch 00001: val_acc improved from -inf to 0.72093, saving model to /content/drive/My Drive/NLP_proj/Models/bestAcc_byArticle_model.h5\n",
            "26/26 [==============================] - 28s 1s/step - loss: 0.6776 - acc: 0.6143 - val_loss: 0.6511 - val_acc: 0.7209\n",
            "Epoch 2/100\n",
            "26/26 [==============================] - ETA: 0s - loss: 0.6599 - acc: 0.6124\n",
            "Epoch 00002: val_loss improved from 0.65108 to 0.61955, saving model to /content/drive/My Drive/NLP_proj/Models/bestLoss_byArticle_model.h5\n",
            "\n",
            "Epoch 00002: val_acc did not improve from 0.72093\n",
            "26/26 [==============================] - 19s 720ms/step - loss: 0.6599 - acc: 0.6124 - val_loss: 0.6195 - val_acc: 0.7209\n",
            "Epoch 3/100\n",
            "26/26 [==============================] - ETA: 0s - loss: 0.6366 - acc: 0.6105\n",
            "Epoch 00003: val_loss improved from 0.61955 to 0.58829, saving model to /content/drive/My Drive/NLP_proj/Models/bestLoss_byArticle_model.h5\n",
            "\n",
            "Epoch 00003: val_acc did not improve from 0.72093\n",
            "26/26 [==============================] - 19s 717ms/step - loss: 0.6366 - acc: 0.6105 - val_loss: 0.5883 - val_acc: 0.7209\n",
            "Epoch 4/100\n",
            "26/26 [==============================] - ETA: 0s - loss: 0.6210 - acc: 0.6124\n",
            "Epoch 00004: val_loss improved from 0.58829 to 0.57551, saving model to /content/drive/My Drive/NLP_proj/Models/bestLoss_byArticle_model.h5\n",
            "\n",
            "Epoch 00004: val_acc did not improve from 0.72093\n",
            "26/26 [==============================] - 19s 713ms/step - loss: 0.6210 - acc: 0.6124 - val_loss: 0.5755 - val_acc: 0.7209\n",
            "Epoch 5/100\n",
            "26/26 [==============================] - ETA: 0s - loss: 0.6134 - acc: 0.6202\n",
            "Epoch 00005: val_loss improved from 0.57551 to 0.56868, saving model to /content/drive/My Drive/NLP_proj/Models/bestLoss_byArticle_model.h5\n",
            "\n",
            "Epoch 00005: val_acc did not improve from 0.72093\n",
            "26/26 [==============================] - 19s 713ms/step - loss: 0.6134 - acc: 0.6202 - val_loss: 0.5687 - val_acc: 0.7209\n",
            "Epoch 6/100\n",
            "26/26 [==============================] - ETA: 0s - loss: 0.6037 - acc: 0.6531\n",
            "Epoch 00006: val_loss improved from 0.56868 to 0.56607, saving model to /content/drive/My Drive/NLP_proj/Models/bestLoss_byArticle_model.h5\n",
            "\n",
            "Epoch 00006: val_acc improved from 0.72093 to 0.76744, saving model to /content/drive/My Drive/NLP_proj/Models/bestAcc_byArticle_model.h5\n",
            "26/26 [==============================] - 21s 817ms/step - loss: 0.6037 - acc: 0.6531 - val_loss: 0.5661 - val_acc: 0.7674\n",
            "Epoch 7/100\n",
            "26/26 [==============================] - ETA: 0s - loss: 0.6003 - acc: 0.7035\n",
            "Epoch 00007: val_loss improved from 0.56607 to 0.56285, saving model to /content/drive/My Drive/NLP_proj/Models/bestLoss_byArticle_model.h5\n",
            "\n",
            "Epoch 00007: val_acc improved from 0.76744 to 0.79845, saving model to /content/drive/My Drive/NLP_proj/Models/bestAcc_byArticle_model.h5\n",
            "26/26 [==============================] - 20s 775ms/step - loss: 0.6003 - acc: 0.7035 - val_loss: 0.5628 - val_acc: 0.7984\n",
            "Epoch 8/100\n",
            "26/26 [==============================] - ETA: 0s - loss: 0.5961 - acc: 0.7306\n",
            "Epoch 00008: val_loss improved from 0.56285 to 0.55996, saving model to /content/drive/My Drive/NLP_proj/Models/bestLoss_byArticle_model.h5\n",
            "\n",
            "Epoch 00008: val_acc did not improve from 0.79845\n",
            "26/26 [==============================] - 19s 732ms/step - loss: 0.5961 - acc: 0.7306 - val_loss: 0.5600 - val_acc: 0.7984\n",
            "Epoch 9/100\n",
            "26/26 [==============================] - ETA: 0s - loss: 0.5908 - acc: 0.7519\n",
            "Epoch 00009: val_loss improved from 0.55996 to 0.55621, saving model to /content/drive/My Drive/NLP_proj/Models/bestLoss_byArticle_model.h5\n",
            "\n",
            "Epoch 00009: val_acc did not improve from 0.79845\n",
            "26/26 [==============================] - 18s 710ms/step - loss: 0.5908 - acc: 0.7519 - val_loss: 0.5562 - val_acc: 0.7829\n",
            "Epoch 10/100\n",
            "26/26 [==============================] - ETA: 0s - loss: 0.5882 - acc: 0.7500\n",
            "Epoch 00010: val_loss improved from 0.55621 to 0.55327, saving model to /content/drive/My Drive/NLP_proj/Models/bestLoss_byArticle_model.h5\n",
            "\n",
            "Epoch 00010: val_acc did not improve from 0.79845\n",
            "26/26 [==============================] - 19s 715ms/step - loss: 0.5882 - acc: 0.7500 - val_loss: 0.5533 - val_acc: 0.7674\n",
            "Epoch 11/100\n",
            "26/26 [==============================] - ETA: 0s - loss: 0.5758 - acc: 0.7713\n",
            "Epoch 00011: val_loss improved from 0.55327 to 0.54943, saving model to /content/drive/My Drive/NLP_proj/Models/bestLoss_byArticle_model.h5\n",
            "\n",
            "Epoch 00011: val_acc did not improve from 0.79845\n",
            "26/26 [==============================] - 19s 716ms/step - loss: 0.5758 - acc: 0.7713 - val_loss: 0.5494 - val_acc: 0.7674\n",
            "Epoch 12/100\n",
            "26/26 [==============================] - ETA: 0s - loss: 0.5687 - acc: 0.7713\n",
            "Epoch 00012: val_loss improved from 0.54943 to 0.54165, saving model to /content/drive/My Drive/NLP_proj/Models/bestLoss_byArticle_model.h5\n",
            "\n",
            "Epoch 00012: val_acc did not improve from 0.79845\n",
            "26/26 [==============================] - 19s 716ms/step - loss: 0.5687 - acc: 0.7713 - val_loss: 0.5417 - val_acc: 0.7907\n",
            "Epoch 13/100\n",
            "26/26 [==============================] - ETA: 0s - loss: 0.5648 - acc: 0.7791\n",
            "Epoch 00013: val_loss improved from 0.54165 to 0.53713, saving model to /content/drive/My Drive/NLP_proj/Models/bestLoss_byArticle_model.h5\n",
            "\n",
            "Epoch 00013: val_acc did not improve from 0.79845\n",
            "26/26 [==============================] - 19s 734ms/step - loss: 0.5648 - acc: 0.7791 - val_loss: 0.5371 - val_acc: 0.7829\n",
            "Epoch 14/100\n",
            "26/26 [==============================] - ETA: 0s - loss: 0.5533 - acc: 0.7771\n",
            "Epoch 00014: val_loss improved from 0.53713 to 0.53095, saving model to /content/drive/My Drive/NLP_proj/Models/bestLoss_byArticle_model.h5\n",
            "\n",
            "Epoch 00014: val_acc did not improve from 0.79845\n",
            "26/26 [==============================] - 19s 718ms/step - loss: 0.5533 - acc: 0.7771 - val_loss: 0.5310 - val_acc: 0.7829\n",
            "Epoch 15/100\n",
            "26/26 [==============================] - ETA: 0s - loss: 0.5448 - acc: 0.7829\n",
            "Epoch 00015: val_loss improved from 0.53095 to 0.52607, saving model to /content/drive/My Drive/NLP_proj/Models/bestLoss_byArticle_model.h5\n",
            "\n",
            "Epoch 00015: val_acc did not improve from 0.79845\n",
            "26/26 [==============================] - 19s 735ms/step - loss: 0.5448 - acc: 0.7829 - val_loss: 0.5261 - val_acc: 0.7829\n",
            "Epoch 16/100\n",
            "26/26 [==============================] - ETA: 0s - loss: 0.5340 - acc: 0.7926\n",
            "Epoch 00016: val_loss improved from 0.52607 to 0.51538, saving model to /content/drive/My Drive/NLP_proj/Models/bestLoss_byArticle_model.h5\n",
            "\n",
            "Epoch 00016: val_acc did not improve from 0.79845\n",
            "26/26 [==============================] - 19s 713ms/step - loss: 0.5340 - acc: 0.7926 - val_loss: 0.5154 - val_acc: 0.7907\n",
            "Epoch 17/100\n",
            "26/26 [==============================] - ETA: 0s - loss: 0.5208 - acc: 0.7926\n",
            "Epoch 00017: val_loss improved from 0.51538 to 0.50947, saving model to /content/drive/My Drive/NLP_proj/Models/bestLoss_byArticle_model.h5\n",
            "\n",
            "Epoch 00017: val_acc did not improve from 0.79845\n",
            "26/26 [==============================] - 19s 716ms/step - loss: 0.5208 - acc: 0.7926 - val_loss: 0.5095 - val_acc: 0.7984\n",
            "Epoch 18/100\n",
            "26/26 [==============================] - ETA: 0s - loss: 0.5099 - acc: 0.8081\n",
            "Epoch 00018: val_loss improved from 0.50947 to 0.50059, saving model to /content/drive/My Drive/NLP_proj/Models/bestLoss_byArticle_model.h5\n",
            "\n",
            "Epoch 00018: val_acc improved from 0.79845 to 0.81395, saving model to /content/drive/My Drive/NLP_proj/Models/bestAcc_byArticle_model.h5\n",
            "26/26 [==============================] - 21s 803ms/step - loss: 0.5099 - acc: 0.8081 - val_loss: 0.5006 - val_acc: 0.8140\n",
            "Epoch 19/100\n",
            "26/26 [==============================] - ETA: 0s - loss: 0.4985 - acc: 0.8081\n",
            "Epoch 00019: val_loss improved from 0.50059 to 0.49260, saving model to /content/drive/My Drive/NLP_proj/Models/bestLoss_byArticle_model.h5\n",
            "\n",
            "Epoch 00019: val_acc did not improve from 0.81395\n",
            "26/26 [==============================] - 19s 731ms/step - loss: 0.4985 - acc: 0.8081 - val_loss: 0.4926 - val_acc: 0.8140\n",
            "Epoch 20/100\n",
            "26/26 [==============================] - ETA: 0s - loss: 0.4819 - acc: 0.8236\n",
            "Epoch 00020: val_loss improved from 0.49260 to 0.48150, saving model to /content/drive/My Drive/NLP_proj/Models/bestLoss_byArticle_model.h5\n",
            "\n",
            "Epoch 00020: val_acc improved from 0.81395 to 0.82171, saving model to /content/drive/My Drive/NLP_proj/Models/bestAcc_byArticle_model.h5\n",
            "26/26 [==============================] - 21s 792ms/step - loss: 0.4819 - acc: 0.8236 - val_loss: 0.4815 - val_acc: 0.8217\n",
            "Epoch 21/100\n",
            "26/26 [==============================] - ETA: 0s - loss: 0.4661 - acc: 0.8353\n",
            "Epoch 00021: val_loss improved from 0.48150 to 0.47208, saving model to /content/drive/My Drive/NLP_proj/Models/bestLoss_byArticle_model.h5\n",
            "\n",
            "Epoch 00021: val_acc improved from 0.82171 to 0.82946, saving model to /content/drive/My Drive/NLP_proj/Models/bestAcc_byArticle_model.h5\n",
            "26/26 [==============================] - 21s 788ms/step - loss: 0.4661 - acc: 0.8353 - val_loss: 0.4721 - val_acc: 0.8295\n",
            "Epoch 22/100\n",
            "26/26 [==============================] - ETA: 0s - loss: 0.4493 - acc: 0.8469\n",
            "Epoch 00022: val_loss improved from 0.47208 to 0.46554, saving model to /content/drive/My Drive/NLP_proj/Models/bestLoss_byArticle_model.h5\n",
            "\n",
            "Epoch 00022: val_acc did not improve from 0.82946\n",
            "26/26 [==============================] - 19s 713ms/step - loss: 0.4493 - acc: 0.8469 - val_loss: 0.4655 - val_acc: 0.8140\n",
            "Epoch 23/100\n",
            "26/26 [==============================] - ETA: 0s - loss: 0.4402 - acc: 0.8488\n",
            "Epoch 00023: val_loss improved from 0.46554 to 0.44926, saving model to /content/drive/My Drive/NLP_proj/Models/bestLoss_byArticle_model.h5\n",
            "\n",
            "Epoch 00023: val_acc improved from 0.82946 to 0.83721, saving model to /content/drive/My Drive/NLP_proj/Models/bestAcc_byArticle_model.h5\n",
            "26/26 [==============================] - 20s 781ms/step - loss: 0.4402 - acc: 0.8488 - val_loss: 0.4493 - val_acc: 0.8372\n",
            "Epoch 24/100\n",
            "26/26 [==============================] - ETA: 0s - loss: 0.4234 - acc: 0.8566\n",
            "Epoch 00024: val_loss did not improve from 0.44926\n",
            "\n",
            "Epoch 00024: val_acc did not improve from 0.83721\n",
            "26/26 [==============================] - 17s 669ms/step - loss: 0.4234 - acc: 0.8566 - val_loss: 0.4532 - val_acc: 0.7984\n",
            "Epoch 25/100\n",
            "26/26 [==============================] - ETA: 0s - loss: 0.4073 - acc: 0.8682\n",
            "Epoch 00025: val_loss improved from 0.44926 to 0.43192, saving model to /content/drive/My Drive/NLP_proj/Models/bestLoss_byArticle_model.h5\n",
            "\n",
            "Epoch 00025: val_acc did not improve from 0.83721\n",
            "26/26 [==============================] - 19s 732ms/step - loss: 0.4073 - acc: 0.8682 - val_loss: 0.4319 - val_acc: 0.8217\n",
            "Epoch 26/100\n",
            "26/26 [==============================] - ETA: 0s - loss: 0.3949 - acc: 0.8760\n",
            "Epoch 00026: val_loss improved from 0.43192 to 0.42673, saving model to /content/drive/My Drive/NLP_proj/Models/bestLoss_byArticle_model.h5\n",
            "\n",
            "Epoch 00026: val_acc did not improve from 0.83721\n",
            "26/26 [==============================] - 19s 714ms/step - loss: 0.3949 - acc: 0.8760 - val_loss: 0.4267 - val_acc: 0.8217\n",
            "Epoch 27/100\n",
            "26/26 [==============================] - ETA: 0s - loss: 0.3837 - acc: 0.8605\n",
            "Epoch 00027: val_loss did not improve from 0.42673\n",
            "\n",
            "Epoch 00027: val_acc did not improve from 0.83721\n",
            "26/26 [==============================] - 17s 669ms/step - loss: 0.3837 - acc: 0.8605 - val_loss: 0.4278 - val_acc: 0.8062\n",
            "Epoch 28/100\n",
            "26/26 [==============================] - ETA: 0s - loss: 0.3628 - acc: 0.8760\n",
            "Epoch 00028: val_loss improved from 0.42673 to 0.42088, saving model to /content/drive/My Drive/NLP_proj/Models/bestLoss_byArticle_model.h5\n",
            "\n",
            "Epoch 00028: val_acc did not improve from 0.83721\n",
            "26/26 [==============================] - 19s 715ms/step - loss: 0.3628 - acc: 0.8760 - val_loss: 0.4209 - val_acc: 0.7984\n",
            "Epoch 29/100\n",
            "26/26 [==============================] - ETA: 0s - loss: 0.3446 - acc: 0.9031\n",
            "Epoch 00029: val_loss improved from 0.42088 to 0.41227, saving model to /content/drive/My Drive/NLP_proj/Models/bestLoss_byArticle_model.h5\n",
            "\n",
            "Epoch 00029: val_acc did not improve from 0.83721\n",
            "26/26 [==============================] - 19s 714ms/step - loss: 0.3446 - acc: 0.9031 - val_loss: 0.4123 - val_acc: 0.8140\n",
            "Epoch 30/100\n",
            "26/26 [==============================] - ETA: 0s - loss: 0.3263 - acc: 0.9070\n",
            "Epoch 00030: val_loss did not improve from 0.41227\n",
            "\n",
            "Epoch 00030: val_acc did not improve from 0.83721\n",
            "26/26 [==============================] - 17s 669ms/step - loss: 0.3263 - acc: 0.9070 - val_loss: 0.4208 - val_acc: 0.7984\n",
            "Epoch 31/100\n",
            "26/26 [==============================] - ETA: 0s - loss: 0.3170 - acc: 0.9070\n",
            "Epoch 00031: val_loss did not improve from 0.41227\n",
            "\n",
            "Epoch 00031: val_acc did not improve from 0.83721\n",
            "26/26 [==============================] - 17s 668ms/step - loss: 0.3170 - acc: 0.9070 - val_loss: 0.4149 - val_acc: 0.7984\n",
            "Epoch 32/100\n",
            "26/26 [==============================] - ETA: 0s - loss: 0.2989 - acc: 0.9205\n",
            "Epoch 00032: val_loss improved from 0.41227 to 0.40184, saving model to /content/drive/My Drive/NLP_proj/Models/bestLoss_byArticle_model.h5\n",
            "\n",
            "Epoch 00032: val_acc did not improve from 0.83721\n",
            "26/26 [==============================] - 19s 715ms/step - loss: 0.2989 - acc: 0.9205 - val_loss: 0.4018 - val_acc: 0.7984\n",
            "Epoch 33/100\n",
            "26/26 [==============================] - ETA: 0s - loss: 0.2905 - acc: 0.9186\n",
            "Epoch 00033: val_loss did not improve from 0.40184\n",
            "\n",
            "Epoch 00033: val_acc did not improve from 0.83721\n",
            "26/26 [==============================] - 17s 670ms/step - loss: 0.2905 - acc: 0.9186 - val_loss: 0.4087 - val_acc: 0.7907\n",
            "Epoch 34/100\n",
            "26/26 [==============================] - ETA: 0s - loss: 0.2751 - acc: 0.9186\n",
            "Epoch 00034: val_loss did not improve from 0.40184\n",
            "\n",
            "Epoch 00034: val_acc did not improve from 0.83721\n",
            "26/26 [==============================] - 17s 669ms/step - loss: 0.2751 - acc: 0.9186 - val_loss: 0.4081 - val_acc: 0.7984\n",
            "Epoch 35/100\n",
            "26/26 [==============================] - ETA: 0s - loss: 0.2607 - acc: 0.9302\n",
            "Epoch 00035: val_loss did not improve from 0.40184\n",
            "\n",
            "Epoch 00035: val_acc did not improve from 0.83721\n",
            "26/26 [==============================] - 17s 669ms/step - loss: 0.2607 - acc: 0.9302 - val_loss: 0.4066 - val_acc: 0.7984\n",
            "Epoch 36/100\n",
            "26/26 [==============================] - ETA: 0s - loss: 0.2520 - acc: 0.9264\n",
            "Epoch 00036: val_loss improved from 0.40184 to 0.40140, saving model to /content/drive/My Drive/NLP_proj/Models/bestLoss_byArticle_model.h5\n",
            "\n",
            "Epoch 00036: val_acc did not improve from 0.83721\n",
            "26/26 [==============================] - 20s 750ms/step - loss: 0.2520 - acc: 0.9264 - val_loss: 0.4014 - val_acc: 0.7984\n",
            "Epoch 37/100\n",
            "26/26 [==============================] - ETA: 0s - loss: 0.2264 - acc: 0.9419\n",
            "Epoch 00037: val_loss did not improve from 0.40140\n",
            "\n",
            "Epoch 00037: val_acc did not improve from 0.83721\n",
            "26/26 [==============================] - 17s 669ms/step - loss: 0.2264 - acc: 0.9419 - val_loss: 0.4031 - val_acc: 0.7984\n",
            "Epoch 38/100\n",
            "26/26 [==============================] - ETA: 0s - loss: 0.2229 - acc: 0.9438\n",
            "Epoch 00038: val_loss improved from 0.40140 to 0.39479, saving model to /content/drive/My Drive/NLP_proj/Models/bestLoss_byArticle_model.h5\n",
            "\n",
            "Epoch 00038: val_acc did not improve from 0.83721\n",
            "26/26 [==============================] - 19s 716ms/step - loss: 0.2229 - acc: 0.9438 - val_loss: 0.3948 - val_acc: 0.8217\n",
            "Epoch 39/100\n",
            "26/26 [==============================] - ETA: 0s - loss: 0.2132 - acc: 0.9438\n",
            "Epoch 00039: val_loss did not improve from 0.39479\n",
            "\n",
            "Epoch 00039: val_acc did not improve from 0.83721\n",
            "26/26 [==============================] - 17s 668ms/step - loss: 0.2132 - acc: 0.9438 - val_loss: 0.4067 - val_acc: 0.7907\n",
            "Epoch 40/100\n",
            "26/26 [==============================] - ETA: 0s - loss: 0.2071 - acc: 0.9516\n",
            "Epoch 00040: val_loss did not improve from 0.39479\n",
            "\n",
            "Epoch 00040: val_acc did not improve from 0.83721\n",
            "26/26 [==============================] - 17s 668ms/step - loss: 0.2071 - acc: 0.9516 - val_loss: 0.4198 - val_acc: 0.8062\n",
            "Epoch 41/100\n",
            "26/26 [==============================] - ETA: 0s - loss: 0.1980 - acc: 0.9477\n",
            "Epoch 00041: val_loss did not improve from 0.39479\n",
            "\n",
            "Epoch 00041: val_acc did not improve from 0.83721\n",
            "26/26 [==============================] - 17s 668ms/step - loss: 0.1980 - acc: 0.9477 - val_loss: 0.4128 - val_acc: 0.7907\n",
            "Epoch 42/100\n",
            "26/26 [==============================] - ETA: 0s - loss: 0.1809 - acc: 0.9593\n",
            "Epoch 00042: val_loss did not improve from 0.39479\n",
            "\n",
            "Epoch 00042: val_acc did not improve from 0.83721\n",
            "26/26 [==============================] - 17s 669ms/step - loss: 0.1809 - acc: 0.9593 - val_loss: 0.4197 - val_acc: 0.7907\n",
            "Epoch 43/100\n",
            "26/26 [==============================] - ETA: 0s - loss: 0.1824 - acc: 0.9554\n",
            "Epoch 00043: val_loss did not improve from 0.39479\n",
            "\n",
            "Epoch 00043: val_acc did not improve from 0.83721\n",
            "26/26 [==============================] - 17s 668ms/step - loss: 0.1824 - acc: 0.9554 - val_loss: 0.4218 - val_acc: 0.8062\n",
            "Epoch 44/100\n",
            "26/26 [==============================] - ETA: 0s - loss: 0.1684 - acc: 0.9632\n",
            "Epoch 00044: val_loss did not improve from 0.39479\n",
            "\n",
            "Epoch 00044: val_acc did not improve from 0.83721\n",
            "26/26 [==============================] - 17s 669ms/step - loss: 0.1684 - acc: 0.9632 - val_loss: 0.4312 - val_acc: 0.7907\n",
            "Epoch 45/100\n",
            "26/26 [==============================] - ETA: 0s - loss: 0.1627 - acc: 0.9632\n",
            "Epoch 00045: val_loss did not improve from 0.39479\n",
            "\n",
            "Epoch 00045: val_acc did not improve from 0.83721\n",
            "26/26 [==============================] - 17s 669ms/step - loss: 0.1627 - acc: 0.9632 - val_loss: 0.4185 - val_acc: 0.8062\n",
            "Epoch 46/100\n",
            "26/26 [==============================] - ETA: 0s - loss: 0.1582 - acc: 0.9612\n",
            "Epoch 00046: val_loss did not improve from 0.39479\n",
            "\n",
            "Epoch 00046: val_acc did not improve from 0.83721\n",
            "26/26 [==============================] - 17s 669ms/step - loss: 0.1582 - acc: 0.9612 - val_loss: 0.4305 - val_acc: 0.7907\n",
            "Epoch 47/100\n",
            "26/26 [==============================] - ETA: 0s - loss: 0.1473 - acc: 0.9748\n",
            "Epoch 00047: val_loss did not improve from 0.39479\n",
            "\n",
            "Epoch 00047: val_acc did not improve from 0.83721\n",
            "26/26 [==============================] - 17s 669ms/step - loss: 0.1473 - acc: 0.9748 - val_loss: 0.4256 - val_acc: 0.8062\n",
            "Epoch 48/100\n",
            "26/26 [==============================] - ETA: 0s - loss: 0.1395 - acc: 0.9748\n",
            "Epoch 00048: val_loss did not improve from 0.39479\n",
            "\n",
            "Epoch 00048: val_acc did not improve from 0.83721\n",
            "26/26 [==============================] - 17s 669ms/step - loss: 0.1395 - acc: 0.9748 - val_loss: 0.4414 - val_acc: 0.7829\n",
            "Epoch 49/100\n",
            "26/26 [==============================] - ETA: 0s - loss: 0.1422 - acc: 0.9690\n",
            "Epoch 00049: val_loss did not improve from 0.39479\n",
            "\n",
            "Epoch 00049: val_acc did not improve from 0.83721\n",
            "26/26 [==============================] - 17s 668ms/step - loss: 0.1422 - acc: 0.9690 - val_loss: 0.4378 - val_acc: 0.7907\n",
            "Epoch 50/100\n",
            "26/26 [==============================] - ETA: 0s - loss: 0.1325 - acc: 0.9729\n",
            "Epoch 00050: val_loss did not improve from 0.39479\n",
            "\n",
            "Epoch 00050: val_acc did not improve from 0.83721\n",
            "26/26 [==============================] - 17s 669ms/step - loss: 0.1325 - acc: 0.9729 - val_loss: 0.4472 - val_acc: 0.7907\n",
            "Epoch 51/100\n",
            "26/26 [==============================] - ETA: 0s - loss: 0.1369 - acc: 0.9709\n",
            "Epoch 00051: val_loss did not improve from 0.39479\n",
            "\n",
            "Epoch 00051: val_acc did not improve from 0.83721\n",
            "26/26 [==============================] - 17s 669ms/step - loss: 0.1369 - acc: 0.9709 - val_loss: 0.4483 - val_acc: 0.7907\n",
            "Epoch 52/100\n",
            "26/26 [==============================] - ETA: 0s - loss: 0.1245 - acc: 0.9787\n",
            "Epoch 00052: val_loss did not improve from 0.39479\n",
            "\n",
            "Epoch 00052: val_acc did not improve from 0.83721\n",
            "26/26 [==============================] - 17s 669ms/step - loss: 0.1245 - acc: 0.9787 - val_loss: 0.4400 - val_acc: 0.7907\n",
            "Epoch 53/100\n",
            "26/26 [==============================] - ETA: 0s - loss: 0.1241 - acc: 0.9729\n",
            "Epoch 00053: val_loss did not improve from 0.39479\n",
            "\n",
            "Epoch 00053: val_acc did not improve from 0.83721\n",
            "26/26 [==============================] - 17s 669ms/step - loss: 0.1241 - acc: 0.9729 - val_loss: 0.4486 - val_acc: 0.8062\n",
            "Epoch 54/100\n",
            "26/26 [==============================] - ETA: 0s - loss: 0.1082 - acc: 0.9767\n",
            "Epoch 00054: val_loss did not improve from 0.39479\n",
            "\n",
            "Epoch 00054: val_acc did not improve from 0.83721\n",
            "26/26 [==============================] - 17s 669ms/step - loss: 0.1082 - acc: 0.9767 - val_loss: 0.4494 - val_acc: 0.8140\n",
            "Epoch 55/100\n",
            "26/26 [==============================] - ETA: 0s - loss: 0.1199 - acc: 0.9729\n",
            "Epoch 00055: val_loss did not improve from 0.39479\n",
            "\n",
            "Epoch 00055: val_acc did not improve from 0.83721\n",
            "26/26 [==============================] - 17s 669ms/step - loss: 0.1199 - acc: 0.9729 - val_loss: 0.4625 - val_acc: 0.8140\n",
            "Epoch 56/100\n",
            "26/26 [==============================] - ETA: 0s - loss: 0.1132 - acc: 0.9787\n",
            "Epoch 00056: val_loss did not improve from 0.39479\n",
            "\n",
            "Epoch 00056: val_acc did not improve from 0.83721\n",
            "26/26 [==============================] - 17s 669ms/step - loss: 0.1132 - acc: 0.9787 - val_loss: 0.4430 - val_acc: 0.8295\n",
            "Epoch 57/100\n",
            "26/26 [==============================] - ETA: 0s - loss: 0.1146 - acc: 0.9748\n",
            "Epoch 00057: val_loss did not improve from 0.39479\n",
            "\n",
            "Epoch 00057: val_acc did not improve from 0.83721\n",
            "26/26 [==============================] - 17s 668ms/step - loss: 0.1146 - acc: 0.9748 - val_loss: 0.4568 - val_acc: 0.8372\n",
            "Epoch 58/100\n",
            "26/26 [==============================] - ETA: 0s - loss: 0.1107 - acc: 0.9729\n",
            "Epoch 00058: val_loss did not improve from 0.39479\n",
            "\n",
            "Epoch 00058: val_acc did not improve from 0.83721\n",
            "26/26 [==============================] - 17s 669ms/step - loss: 0.1107 - acc: 0.9729 - val_loss: 0.4583 - val_acc: 0.8372\n",
            "Epoch 59/100\n",
            "26/26 [==============================] - ETA: 0s - loss: 0.1070 - acc: 0.9806\n",
            "Epoch 00059: val_loss did not improve from 0.39479\n",
            "\n",
            "Epoch 00059: val_acc did not improve from 0.83721\n",
            "26/26 [==============================] - 17s 668ms/step - loss: 0.1070 - acc: 0.9806 - val_loss: 0.4393 - val_acc: 0.8372\n",
            "Epoch 60/100\n",
            "26/26 [==============================] - ETA: 0s - loss: 0.1020 - acc: 0.9806\n",
            "Epoch 00060: val_loss did not improve from 0.39479\n",
            "\n",
            "Epoch 00060: val_acc did not improve from 0.83721\n",
            "26/26 [==============================] - 17s 668ms/step - loss: 0.1020 - acc: 0.9806 - val_loss: 0.4536 - val_acc: 0.8295\n",
            "Epoch 61/100\n",
            "26/26 [==============================] - ETA: 0s - loss: 0.0952 - acc: 0.9806\n",
            "Epoch 00061: val_loss did not improve from 0.39479\n",
            "\n",
            "Epoch 00061: val_acc did not improve from 0.83721\n",
            "26/26 [==============================] - 17s 669ms/step - loss: 0.0952 - acc: 0.9806 - val_loss: 0.4305 - val_acc: 0.8372\n",
            "Epoch 62/100\n",
            "26/26 [==============================] - ETA: 0s - loss: 0.1009 - acc: 0.9826\n",
            "Epoch 00062: val_loss did not improve from 0.39479\n",
            "\n",
            "Epoch 00062: val_acc did not improve from 0.83721\n",
            "26/26 [==============================] - 17s 669ms/step - loss: 0.1009 - acc: 0.9826 - val_loss: 0.4492 - val_acc: 0.8217\n",
            "Epoch 63/100\n",
            "26/26 [==============================] - ETA: 0s - loss: 0.0897 - acc: 0.9845\n",
            "Epoch 00063: val_loss did not improve from 0.39479\n",
            "\n",
            "Epoch 00063: val_acc improved from 0.83721 to 0.84496, saving model to /content/drive/My Drive/NLP_proj/Models/bestAcc_byArticle_model.h5\n",
            "26/26 [==============================] - 19s 719ms/step - loss: 0.0897 - acc: 0.9845 - val_loss: 0.4607 - val_acc: 0.8450\n",
            "Epoch 64/100\n",
            "26/26 [==============================] - ETA: 0s - loss: 0.0831 - acc: 0.9845\n",
            "Epoch 00064: val_loss did not improve from 0.39479\n",
            "\n",
            "Epoch 00064: val_acc did not improve from 0.84496\n",
            "26/26 [==============================] - 17s 669ms/step - loss: 0.0831 - acc: 0.9845 - val_loss: 0.4587 - val_acc: 0.8217\n",
            "Epoch 65/100\n",
            "26/26 [==============================] - ETA: 0s - loss: 0.0848 - acc: 0.9845\n",
            "Epoch 00065: val_loss did not improve from 0.39479\n",
            "\n",
            "Epoch 00065: val_acc did not improve from 0.84496\n",
            "26/26 [==============================] - 17s 670ms/step - loss: 0.0848 - acc: 0.9845 - val_loss: 0.4648 - val_acc: 0.8217\n",
            "Epoch 66/100\n",
            "26/26 [==============================] - ETA: 0s - loss: 0.0915 - acc: 0.9826\n",
            "Epoch 00066: val_loss did not improve from 0.39479\n",
            "\n",
            "Epoch 00066: val_acc did not improve from 0.84496\n",
            "26/26 [==============================] - 17s 668ms/step - loss: 0.0915 - acc: 0.9826 - val_loss: 0.5050 - val_acc: 0.8062\n",
            "Epoch 67/100\n",
            "26/26 [==============================] - ETA: 0s - loss: 0.0853 - acc: 0.9864\n",
            "Epoch 00067: val_loss did not improve from 0.39479\n",
            "\n",
            "Epoch 00067: val_acc did not improve from 0.84496\n",
            "26/26 [==============================] - 17s 669ms/step - loss: 0.0853 - acc: 0.9864 - val_loss: 0.4773 - val_acc: 0.8217\n",
            "Epoch 68/100\n",
            "26/26 [==============================] - ETA: 0s - loss: 0.0793 - acc: 0.9884\n",
            "Epoch 00068: val_loss did not improve from 0.39479\n",
            "\n",
            "Epoch 00068: val_acc did not improve from 0.84496\n",
            "26/26 [==============================] - 17s 670ms/step - loss: 0.0793 - acc: 0.9884 - val_loss: 0.5050 - val_acc: 0.7984\n",
            "Epoch 69/100\n",
            "26/26 [==============================] - ETA: 0s - loss: 0.0817 - acc: 0.9864\n",
            "Epoch 00069: val_loss did not improve from 0.39479\n",
            "\n",
            "Epoch 00069: val_acc did not improve from 0.84496\n",
            "26/26 [==============================] - 17s 670ms/step - loss: 0.0817 - acc: 0.9864 - val_loss: 0.5108 - val_acc: 0.8062\n",
            "Epoch 70/100\n",
            "26/26 [==============================] - ETA: 0s - loss: 0.0777 - acc: 0.9864\n",
            "Epoch 00070: val_loss did not improve from 0.39479\n",
            "\n",
            "Epoch 00070: val_acc did not improve from 0.84496\n",
            "26/26 [==============================] - 17s 668ms/step - loss: 0.0777 - acc: 0.9864 - val_loss: 0.4896 - val_acc: 0.8140\n",
            "Epoch 71/100\n",
            "26/26 [==============================] - ETA: 0s - loss: 0.0780 - acc: 0.9884\n",
            "Epoch 00071: val_loss did not improve from 0.39479\n",
            "\n",
            "Epoch 00071: val_acc did not improve from 0.84496\n",
            "26/26 [==============================] - 17s 669ms/step - loss: 0.0780 - acc: 0.9884 - val_loss: 0.4903 - val_acc: 0.8450\n",
            "Epoch 72/100\n",
            "26/26 [==============================] - ETA: 0s - loss: 0.0720 - acc: 0.9903\n",
            "Epoch 00072: val_loss did not improve from 0.39479\n",
            "\n",
            "Epoch 00072: val_acc did not improve from 0.84496\n",
            "26/26 [==============================] - 17s 670ms/step - loss: 0.0720 - acc: 0.9903 - val_loss: 0.4998 - val_acc: 0.8140\n",
            "Epoch 73/100\n",
            "26/26 [==============================] - ETA: 0s - loss: 0.0699 - acc: 0.9884\n",
            "Epoch 00073: val_loss did not improve from 0.39479\n",
            "\n",
            "Epoch 00073: val_acc did not improve from 0.84496\n",
            "26/26 [==============================] - 17s 669ms/step - loss: 0.0699 - acc: 0.9884 - val_loss: 0.5055 - val_acc: 0.8372\n",
            "Epoch 74/100\n",
            "26/26 [==============================] - ETA: 0s - loss: 0.0669 - acc: 0.9884\n",
            "Epoch 00074: val_loss did not improve from 0.39479\n",
            "\n",
            "Epoch 00074: val_acc did not improve from 0.84496\n",
            "26/26 [==============================] - 17s 670ms/step - loss: 0.0669 - acc: 0.9884 - val_loss: 0.5298 - val_acc: 0.8217\n",
            "Epoch 75/100\n",
            "26/26 [==============================] - ETA: 0s - loss: 0.0636 - acc: 0.9903\n",
            "Epoch 00075: val_loss did not improve from 0.39479\n",
            "\n",
            "Epoch 00075: val_acc did not improve from 0.84496\n",
            "26/26 [==============================] - 17s 669ms/step - loss: 0.0636 - acc: 0.9903 - val_loss: 0.5151 - val_acc: 0.8295\n",
            "Epoch 76/100\n",
            "26/26 [==============================] - ETA: 0s - loss: 0.0639 - acc: 0.9884\n",
            "Epoch 00076: val_loss did not improve from 0.39479\n",
            "\n",
            "Epoch 00076: val_acc did not improve from 0.84496\n",
            "26/26 [==============================] - 17s 668ms/step - loss: 0.0639 - acc: 0.9884 - val_loss: 0.5153 - val_acc: 0.8140\n",
            "Epoch 77/100\n",
            "26/26 [==============================] - ETA: 0s - loss: 0.0655 - acc: 0.9884\n",
            "Epoch 00077: val_loss did not improve from 0.39479\n",
            "\n",
            "Epoch 00077: val_acc did not improve from 0.84496\n",
            "26/26 [==============================] - 17s 669ms/step - loss: 0.0655 - acc: 0.9884 - val_loss: 0.5058 - val_acc: 0.8217\n",
            "Epoch 78/100\n",
            "26/26 [==============================] - ETA: 0s - loss: 0.0601 - acc: 0.9922\n",
            "Epoch 00078: val_loss did not improve from 0.39479\n",
            "\n",
            "Epoch 00078: val_acc did not improve from 0.84496\n",
            "26/26 [==============================] - 17s 669ms/step - loss: 0.0601 - acc: 0.9922 - val_loss: 0.5047 - val_acc: 0.8295\n",
            "Epoch 79/100\n",
            "26/26 [==============================] - ETA: 0s - loss: 0.0581 - acc: 0.9922\n",
            "Epoch 00079: val_loss did not improve from 0.39479\n",
            "\n",
            "Epoch 00079: val_acc did not improve from 0.84496\n",
            "26/26 [==============================] - 17s 669ms/step - loss: 0.0581 - acc: 0.9922 - val_loss: 0.5632 - val_acc: 0.8295\n",
            "Epoch 80/100\n",
            "26/26 [==============================] - ETA: 0s - loss: 0.0553 - acc: 0.9922\n",
            "Epoch 00080: val_loss did not improve from 0.39479\n",
            "\n",
            "Epoch 00080: val_acc did not improve from 0.84496\n",
            "26/26 [==============================] - 17s 669ms/step - loss: 0.0553 - acc: 0.9922 - val_loss: 0.5490 - val_acc: 0.8217\n",
            "Epoch 81/100\n",
            "26/26 [==============================] - ETA: 0s - loss: 0.0581 - acc: 0.9903\n",
            "Epoch 00081: val_loss did not improve from 0.39479\n",
            "\n",
            "Epoch 00081: val_acc did not improve from 0.84496\n",
            "26/26 [==============================] - 17s 668ms/step - loss: 0.0581 - acc: 0.9903 - val_loss: 0.5397 - val_acc: 0.8217\n",
            "Epoch 82/100\n",
            "26/26 [==============================] - ETA: 0s - loss: 0.0573 - acc: 0.9903\n",
            "Epoch 00082: val_loss did not improve from 0.39479\n",
            "\n",
            "Epoch 00082: val_acc did not improve from 0.84496\n",
            "26/26 [==============================] - 17s 669ms/step - loss: 0.0573 - acc: 0.9903 - val_loss: 0.5444 - val_acc: 0.8062\n",
            "Epoch 83/100\n",
            "26/26 [==============================] - ETA: 0s - loss: 0.0557 - acc: 0.9903\n",
            "Epoch 00083: val_loss did not improve from 0.39479\n",
            "\n",
            "Epoch 00083: val_acc did not improve from 0.84496\n",
            "26/26 [==============================] - 17s 669ms/step - loss: 0.0557 - acc: 0.9903 - val_loss: 0.5515 - val_acc: 0.8062\n",
            "Epoch 84/100\n",
            "26/26 [==============================] - ETA: 0s - loss: 0.0541 - acc: 0.9903\n",
            "Epoch 00084: val_loss did not improve from 0.39479\n",
            "\n",
            "Epoch 00084: val_acc did not improve from 0.84496\n",
            "26/26 [==============================] - 17s 668ms/step - loss: 0.0541 - acc: 0.9903 - val_loss: 0.5405 - val_acc: 0.8062\n",
            "Epoch 85/100\n",
            "26/26 [==============================] - ETA: 0s - loss: 0.0507 - acc: 0.9922\n",
            "Epoch 00085: val_loss did not improve from 0.39479\n",
            "\n",
            "Epoch 00085: val_acc did not improve from 0.84496\n",
            "26/26 [==============================] - 17s 671ms/step - loss: 0.0507 - acc: 0.9922 - val_loss: 0.5333 - val_acc: 0.8372\n",
            "Epoch 86/100\n",
            "26/26 [==============================] - ETA: 0s - loss: 0.0486 - acc: 0.9922\n",
            "Epoch 00086: val_loss did not improve from 0.39479\n",
            "\n",
            "Epoch 00086: val_acc did not improve from 0.84496\n",
            "26/26 [==============================] - 17s 668ms/step - loss: 0.0486 - acc: 0.9922 - val_loss: 0.5526 - val_acc: 0.8062\n",
            "Epoch 87/100\n",
            "26/26 [==============================] - ETA: 0s - loss: 0.0492 - acc: 0.9903\n",
            "Epoch 00087: val_loss did not improve from 0.39479\n",
            "\n",
            "Epoch 00087: val_acc did not improve from 0.84496\n",
            "26/26 [==============================] - 17s 669ms/step - loss: 0.0492 - acc: 0.9903 - val_loss: 0.5287 - val_acc: 0.8372\n",
            "Epoch 88/100\n",
            "26/26 [==============================] - ETA: 0s - loss: 0.0482 - acc: 0.9922\n",
            "Epoch 00088: val_loss did not improve from 0.39479\n",
            "\n",
            "Epoch 00088: val_acc did not improve from 0.84496\n",
            "26/26 [==============================] - 17s 669ms/step - loss: 0.0482 - acc: 0.9922 - val_loss: 0.5409 - val_acc: 0.7984\n",
            "Epoch 89/100\n",
            "26/26 [==============================] - ETA: 0s - loss: 0.0486 - acc: 0.9922\n",
            "Epoch 00089: val_loss did not improve from 0.39479\n",
            "\n",
            "Epoch 00089: val_acc improved from 0.84496 to 0.85271, saving model to /content/drive/My Drive/NLP_proj/Models/bestAcc_byArticle_model.h5\n",
            "26/26 [==============================] - 19s 714ms/step - loss: 0.0486 - acc: 0.9922 - val_loss: 0.5177 - val_acc: 0.8527\n",
            "Epoch 90/100\n",
            "26/26 [==============================] - ETA: 0s - loss: 0.0460 - acc: 0.9942\n",
            "Epoch 00090: val_loss did not improve from 0.39479\n",
            "\n",
            "Epoch 00090: val_acc did not improve from 0.85271\n",
            "26/26 [==============================] - 17s 669ms/step - loss: 0.0460 - acc: 0.9942 - val_loss: 0.5451 - val_acc: 0.8062\n",
            "Epoch 91/100\n",
            "26/26 [==============================] - ETA: 0s - loss: 0.0454 - acc: 0.9942\n",
            "Epoch 00091: val_loss did not improve from 0.39479\n",
            "\n",
            "Epoch 00091: val_acc did not improve from 0.85271\n",
            "26/26 [==============================] - 17s 669ms/step - loss: 0.0454 - acc: 0.9942 - val_loss: 0.5620 - val_acc: 0.8062\n",
            "Epoch 92/100\n",
            "26/26 [==============================] - ETA: 0s - loss: 0.0442 - acc: 0.9942\n",
            "Epoch 00092: val_loss did not improve from 0.39479\n",
            "\n",
            "Epoch 00092: val_acc did not improve from 0.85271\n",
            "26/26 [==============================] - 17s 669ms/step - loss: 0.0442 - acc: 0.9942 - val_loss: 0.5638 - val_acc: 0.8062\n",
            "Epoch 93/100\n",
            "26/26 [==============================] - ETA: 0s - loss: 0.0439 - acc: 0.9942\n",
            "Epoch 00093: val_loss did not improve from 0.39479\n",
            "\n",
            "Epoch 00093: val_acc did not improve from 0.85271\n",
            "26/26 [==============================] - 17s 669ms/step - loss: 0.0439 - acc: 0.9942 - val_loss: 0.5631 - val_acc: 0.8140\n",
            "Epoch 94/100\n",
            "26/26 [==============================] - ETA: 0s - loss: 0.0479 - acc: 0.9922\n",
            "Epoch 00094: val_loss did not improve from 0.39479\n",
            "\n",
            "Epoch 00094: val_acc did not improve from 0.85271\n",
            "26/26 [==============================] - 17s 670ms/step - loss: 0.0479 - acc: 0.9922 - val_loss: 0.6017 - val_acc: 0.7907\n",
            "Epoch 95/100\n",
            "26/26 [==============================] - ETA: 0s - loss: 0.0450 - acc: 0.9942\n",
            "Epoch 00095: val_loss did not improve from 0.39479\n",
            "\n",
            "Epoch 00095: val_acc did not improve from 0.85271\n",
            "26/26 [==============================] - 17s 669ms/step - loss: 0.0450 - acc: 0.9942 - val_loss: 0.5845 - val_acc: 0.8062\n",
            "Epoch 96/100\n",
            "26/26 [==============================] - ETA: 0s - loss: 0.0437 - acc: 0.9922\n",
            "Epoch 00096: val_loss did not improve from 0.39479\n",
            "\n",
            "Epoch 00096: val_acc did not improve from 0.85271\n",
            "26/26 [==============================] - 17s 669ms/step - loss: 0.0437 - acc: 0.9922 - val_loss: 0.6150 - val_acc: 0.7907\n",
            "Epoch 97/100\n",
            "26/26 [==============================] - ETA: 0s - loss: 0.0422 - acc: 0.9942\n",
            "Epoch 00097: val_loss did not improve from 0.39479\n",
            "\n",
            "Epoch 00097: val_acc did not improve from 0.85271\n",
            "26/26 [==============================] - 17s 669ms/step - loss: 0.0422 - acc: 0.9942 - val_loss: 0.5674 - val_acc: 0.8062\n",
            "Epoch 98/100\n",
            "26/26 [==============================] - ETA: 0s - loss: 0.0411 - acc: 0.9942\n",
            "Epoch 00098: val_loss did not improve from 0.39479\n",
            "\n",
            "Epoch 00098: val_acc did not improve from 0.85271\n",
            "26/26 [==============================] - 17s 669ms/step - loss: 0.0411 - acc: 0.9942 - val_loss: 0.5963 - val_acc: 0.7984\n",
            "Epoch 99/100\n",
            "26/26 [==============================] - ETA: 0s - loss: 0.0414 - acc: 0.9942\n",
            "Epoch 00099: val_loss did not improve from 0.39479\n",
            "\n",
            "Epoch 00099: val_acc did not improve from 0.85271\n",
            "26/26 [==============================] - 17s 669ms/step - loss: 0.0414 - acc: 0.9942 - val_loss: 0.5760 - val_acc: 0.8217\n",
            "Epoch 100/100\n",
            "26/26 [==============================] - ETA: 0s - loss: 0.0406 - acc: 0.9942\n",
            "Epoch 00100: val_loss did not improve from 0.39479\n",
            "\n",
            "Epoch 00100: val_acc did not improve from 0.85271\n",
            "26/26 [==============================] - 17s 669ms/step - loss: 0.0406 - acc: 0.9942 - val_loss: 0.5773 - val_acc: 0.8217\n"
          ],
          "name": "stdout"
        }
      ]
    },
    {
      "cell_type": "code",
      "metadata": {
        "id": "BOBKROBwC_7i",
        "colab_type": "code",
        "colab": {
          "base_uri": "https://localhost:8080/",
          "height": 50
        },
        "outputId": "3a6ba745-5e60-4eb5-df0e-a4bad1d93cee"
      },
      "source": [
        "#_,test_acc = model.evaluate(x = articles_text, y = articles_label)\n",
        "#print(\"articles_ACC: \",test_acc)"
      ],
      "execution_count": null,
      "outputs": [
        {
          "output_type": "stream",
          "text": [
            "21/21 [==============================] - 6s 290ms/step - loss: 0.1970 - acc: 0.9442\n",
            "articles_ACC:  0.9441860318183899\n"
          ],
          "name": "stdout"
        }
      ]
    },
    {
      "cell_type": "markdown",
      "metadata": {
        "id": "2mSv0D77HvPv",
        "colab_type": "text"
      },
      "source": [
        "*   Early Stopping at Epoch: 51\n",
        "*   Max Accuracy: 0.80620  atEpoch: 36\n",
        "*   Min Loss: 0.40083  atEpoch: 41"
      ]
    },
    {
      "cell_type": "markdown",
      "metadata": {
        "id": "yHHCtjU64kux",
        "colab_type": "text"
      },
      "source": [
        "NEW\n",
        "1. Max Accuracy: 0.85271 atEpoch: 89\n",
        "2. Min Loss: 0.39479 atEpoch: 38"
      ]
    },
    {
      "cell_type": "markdown",
      "metadata": {
        "id": "ZBjcscEg96Wy",
        "colab_type": "text"
      },
      "source": [
        "# ByArticle Model Results"
      ]
    },
    {
      "cell_type": "code",
      "metadata": {
        "id": "RPbwaz5IM6un",
        "colab_type": "code",
        "colab": {
          "base_uri": "https://localhost:8080/",
          "height": 205
        },
        "outputId": "7859cab4-bb39-48a9-9668-2d4b4a3c9979"
      },
      "source": [
        "model_article_loss = TFDistilBertForSequenceClassification.from_pretrained('distilbert-base-uncased')\n",
        "model_article_loss.compile(optimizer=optimizer, loss=loss,metrics=[keras.metrics.SparseCategoricalAccuracy(name=\"acc\")])\n",
        "model_article_loss.load_weights(byArticle_lossModel)\n",
        "\n",
        "model_article_acc = TFDistilBertForSequenceClassification.from_pretrained('distilbert-base-uncased')\n",
        "model_article_acc.compile(optimizer=optimizer, loss=loss,metrics=[keras.metrics.SparseCategoricalAccuracy(name=\"acc\")])\n",
        "model_article_acc.load_weights(byArticle_accModel)"
      ],
      "execution_count": 17,
      "outputs": [
        {
          "output_type": "stream",
          "text": [
            "Some weights of the model checkpoint at distilbert-base-uncased were not used when initializing TFDistilBertForSequenceClassification: ['vocab_transform', 'activation_13', 'vocab_projector', 'vocab_layer_norm']\n",
            "- This IS expected if you are initializing TFDistilBertForSequenceClassification from the checkpoint of a model trained on another task or with another architecture (e.g. initializing a BertForSequenceClassification model from a BertForPretraining model).\n",
            "- This IS NOT expected if you are initializing TFDistilBertForSequenceClassification from the checkpoint of a model that you expect to be exactly identical (initializing a BertForSequenceClassification model from a BertForSequenceClassification model).\n",
            "Some weights of TFDistilBertForSequenceClassification were not initialized from the model checkpoint at distilbert-base-uncased and are newly initialized: ['dropout_59', 'classifier', 'pre_classifier']\n",
            "You should probably TRAIN this model on a down-stream task to be able to use it for predictions and inference.\n",
            "Some weights of the model checkpoint at distilbert-base-uncased were not used when initializing TFDistilBertForSequenceClassification: ['vocab_transform', 'activation_13', 'vocab_projector', 'vocab_layer_norm']\n",
            "- This IS expected if you are initializing TFDistilBertForSequenceClassification from the checkpoint of a model trained on another task or with another architecture (e.g. initializing a BertForSequenceClassification model from a BertForPretraining model).\n",
            "- This IS NOT expected if you are initializing TFDistilBertForSequenceClassification from the checkpoint of a model that you expect to be exactly identical (initializing a BertForSequenceClassification model from a BertForSequenceClassification model).\n",
            "Some weights of TFDistilBertForSequenceClassification were not initialized from the model checkpoint at distilbert-base-uncased and are newly initialized: ['dropout_79', 'classifier', 'pre_classifier']\n",
            "You should probably TRAIN this model on a down-stream task to be able to use it for predictions and inference.\n"
          ],
          "name": "stderr"
        }
      ]
    },
    {
      "cell_type": "code",
      "metadata": {
        "id": "eakUvsbaoj78",
        "colab_type": "code",
        "colab": {}
      },
      "source": [
        "model_article_loss.save_pretrained(\"/content/drive/My Drive/NLP_proj/NEW article Model LOSS/\")\n",
        "model_article_acc.save_pretrained(\"/content/drive/My Drive/NLP_proj/NEW article Model ACC/\")"
      ],
      "execution_count": 19,
      "outputs": []
    },
    {
      "cell_type": "code",
      "metadata": {
        "id": "EDQCGqbwphG4",
        "colab_type": "code",
        "colab": {
          "base_uri": "https://localhost:8080/",
          "height": 121
        },
        "outputId": "ee473e76-2fce-4eae-9e58-ef2de7681185"
      },
      "source": [
        "new_model = TFDistilBertForSequenceClassification.from_pretrained(\"/content/drive/My Drive/NLP_proj/article Model/\")\n",
        "new_model.compile(optimizer=optimizer, loss=loss,metrics=[keras.metrics.SparseCategoricalAccuracy(name=\"acc\")])"
      ],
      "execution_count": 22,
      "outputs": [
        {
          "output_type": "stream",
          "text": [
            "Some weights of the model checkpoint at /content/drive/My Drive/NLP_proj/article Model/ were not used when initializing TFDistilBertForSequenceClassification: ['dropout_59']\n",
            "- This IS expected if you are initializing TFDistilBertForSequenceClassification from the checkpoint of a model trained on another task or with another architecture (e.g. initializing a BertForSequenceClassification model from a BertForPretraining model).\n",
            "- This IS NOT expected if you are initializing TFDistilBertForSequenceClassification from the checkpoint of a model that you expect to be exactly identical (initializing a BertForSequenceClassification model from a BertForSequenceClassification model).\n",
            "Some weights of TFDistilBertForSequenceClassification were not initialized from the model checkpoint at /content/drive/My Drive/NLP_proj/article Model/ and are newly initialized: ['dropout_139']\n",
            "You should probably TRAIN this model on a down-stream task to be able to use it for predictions and inference.\n"
          ],
          "name": "stderr"
        }
      ]
    },
    {
      "cell_type": "code",
      "metadata": {
        "id": "ywCwCbA_qVS6",
        "colab_type": "code",
        "colab": {
          "base_uri": "https://localhost:8080/",
          "height": 50
        },
        "outputId": "77334cb1-f638-4148-fc9c-b9be7abe877e"
      },
      "source": [
        "_,test_acc = new_model.evaluate(x = articles_text, y = articles_label)\n",
        "print(\"new_model: \",test_acc)"
      ],
      "execution_count": 23,
      "outputs": [
        {
          "output_type": "stream",
          "text": [
            "21/21 [==============================] - 6s 293ms/step - loss: 0.2856 - acc: 0.8915\n",
            "new_model:  0.8914728760719299\n"
          ],
          "name": "stdout"
        }
      ]
    },
    {
      "cell_type": "code",
      "metadata": {
        "id": "AXKF72iyNPXt",
        "colab_type": "code",
        "colab": {
          "base_uri": "https://localhost:8080/",
          "height": 84
        },
        "outputId": "693efd6d-5e6d-41a2-991f-0b000f9d00b4"
      },
      "source": [
        "_,test_acc = model_article_acc.evaluate(x = articles_text, y = articles_label)\n",
        "print(\"articles_ACC_model: \",test_acc)\n",
        "_,test_acc = model_article_loss.evaluate(x = articles_text, y = articles_label)\n",
        "print(\"articles_LOSS_model: \",test_acc)"
      ],
      "execution_count": 22,
      "outputs": [
        {
          "output_type": "stream",
          "text": [
            "21/21 [==============================] - 6s 291ms/step - loss: 0.1358 - acc: 0.9659\n",
            "articles_ACC_model:  0.9658914804458618\n",
            "21/21 [==============================] - 6s 292ms/step - loss: 0.2300 - acc: 0.9302\n",
            "articles_LOSS_model:  0.930232584476471\n"
          ],
          "name": "stdout"
        }
      ]
    },
    {
      "cell_type": "code",
      "metadata": {
        "id": "thUdytTZWbMM",
        "colab_type": "code",
        "colab": {
          "base_uri": "https://localhost:8080/",
          "height": 312
        },
        "outputId": "d8880e42-2017-4130-80e4-fe10f089edc8"
      },
      "source": [
        "plt.plot(history_byArticle.history['acc'])\n",
        "plt.plot(history_byArticle.history['val_acc'])\n",
        "plt.title('model accuracy')\n",
        "plt.ylabel('accuracy')\n",
        "plt.xlabel('epoch')\n",
        "plt.legend(['train', 'test'], loc='upper left')\n",
        "plt.show()\n",
        "plt.savefig(epochGraph_byArticle_acc_PNG)\n",
        "plt.savefig(epochGraph_byArticle_acc_PDF)"
      ],
      "execution_count": 20,
      "outputs": [
        {
          "output_type": "display_data",
          "data": {
            "image/png": "[encoded data removed]",
            "text/plain": [
              "<Figure size 432x288 with 1 Axes>"
            ]
          },
          "metadata": {
            "tags": [],
            "needs_background": "light"
          }
        },
        {
          "output_type": "display_data",
          "data": {
            "text/plain": [
              "<Figure size 432x288 with 0 Axes>"
            ]
          },
          "metadata": {
            "tags": []
          }
        }
      ]
    },
    {
      "cell_type": "code",
      "metadata": {
        "id": "MGPq4SdEhNK6",
        "colab_type": "code",
        "colab": {
          "base_uri": "https://localhost:8080/",
          "height": 312
        },
        "outputId": "2ceb18dd-6d2c-48db-9991-7835e986e5ae"
      },
      "source": [
        "plt.plot(history_byArticle.history['loss'])\n",
        "plt.plot(history_byArticle.history['val_loss'])\n",
        "plt.title('model loss')\n",
        "plt.ylabel('loss')\n",
        "plt.xlabel('epoch')\n",
        "plt.legend(['train', 'test'], loc='upper left')\n",
        "plt.show()\n",
        "plt.savefig(epochGraph_byArticle_loss_PNG)\n",
        "plt.savefig(epochGraph_byArticle_loss_PDF)"
      ],
      "execution_count": 21,
      "outputs": [
        {
          "output_type": "display_data",
          "data": {
            "image/png": "[encoded data removed]",
            "text/plain": [
              "<Figure size 432x288 with 1 Axes>"
            ]
          },
          "metadata": {
            "tags": [],
            "needs_background": "light"
          }
        },
        {
          "output_type": "display_data",
          "data": {
            "text/plain": [
              "<Figure size 432x288 with 0 Axes>"
            ]
          },
          "metadata": {
            "tags": []
          }
        }
      ]
    }
  ]
}